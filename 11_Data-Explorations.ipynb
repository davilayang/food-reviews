{
 "cells": [
  {
   "cell_type": "markdown",
   "metadata": {},
   "source": [
    "# Exploratory Analysis"
   ]
  },
  {
   "cell_type": "markdown",
   "metadata": {},
   "source": [
    "1. High Energy Groceres during Colder Months\n",
    "2. Sweeter Foods w/ Product Ratings\n",
    "3. Non-Verified Reviews\n",
    "4. Review Time and Rating: Day of Week vs. Produt Rating\n",
    "5. Helpful vs. Not Helpful Reviews: Sentence Generation\n",
    "6. Nutrients vs. Time \n",
    "    \n",
    "TODO:\n",
    "+ Can review headline indicate good rating?\n",
    "  + using the few words in headline, indicate a good rating?\n",
    "+ Helpful reviews length\n",
    "+ Helpeful votes with Nutrients/Categories?\n",
    "  + maybe some products require more helpful votes?\n",
    "+ model helpful reviews by review words...etc\n",
    "  + since helpful reviews are likel to influence other users\n",
    "+ helpful reivews\n",
    "  + would some categories have more helpful reviews?\n",
    "  + would some nutrients product have more helpful reviews?"
   ]
  },
  {
   "cell_type": "code",
   "execution_count": 2,
   "metadata": {},
   "outputs": [],
   "source": [
    "import os\n",
    "import pandas as pd\n",
    "import numpy as np\n",
    "import matplotlib.pyplot as plt\n",
    "import seaborn as sns\n",
    "\n",
    "sns.set()"
   ]
  },
  {
   "cell_type": "code",
   "execution_count": 3,
   "metadata": {},
   "outputs": [
    {
     "data": {
      "text/plain": [
       "True"
      ]
     },
     "execution_count": 3,
     "metadata": {},
     "output_type": "execute_result"
    }
   ],
   "source": [
    "import os\n",
    "from sqlalchemy import create_engine\n",
    "\n",
    "from dotenv import load_dotenv # env variables\n",
    "load_dotenv(verbose=True)"
   ]
  },
  {
   "cell_type": "code",
   "execution_count": 4,
   "metadata": {},
   "outputs": [],
   "source": [
    "SQLALCHEMY_DATABASE_URI = os.getenv('DATABASE_URL')\n",
    "engine = create_engine(SQLALCHEMY_DATABASE_URI)"
   ]
  },
  {
   "cell_type": "code",
   "execution_count": null,
   "metadata": {},
   "outputs": [],
   "source": []
  },
  {
   "cell_type": "markdown",
   "metadata": {},
   "source": [
    "use merged data from file\n",
    "```python\n",
    "data_path = 'D:\\DATA\\OurFoods'\n",
    "df = pd.read_csv(os.path.join(data_path, 'merged_amz-off_3.csv.gz'),\\\n",
    "                 dtype={'customer_id': 'object', 'product_parent': 'object', \\\n",
    "                        'star_rating': pd.Int64Dtype(), 'helpful_votes': pd.Int64Dtype(), \n",
    "                        'total_votes': pd.Int64Dtype(), \\\n",
    "                        'code': 'object'},\n",
    "                 compression='gzip')\n",
    "# convert reivew_date to datetime object\n",
    "df.review_date = pd.to_datetime(df.review_date)\n",
    "df.shape\n",
    "```"
   ]
  },
  {
   "cell_type": "code",
   "execution_count": null,
   "metadata": {},
   "outputs": [],
   "source": []
  },
  {
   "cell_type": "code",
   "execution_count": null,
   "metadata": {},
   "outputs": [],
   "source": []
  },
  {
   "cell_type": "markdown",
   "metadata": {},
   "source": [
    "### 1. Higher Energy Groceries at Colder Months\n",
    "+ group by each month, calculate mena energy value\n",
    "+ group by each month, shown energy with scatterplot or boxplot"
   ]
  },
  {
   "cell_type": "code",
   "execution_count": 4,
   "metadata": {},
   "outputs": [],
   "source": [
    "from calendar import month_name"
   ]
  },
  {
   "cell_type": "code",
   "execution_count": 5,
   "metadata": {},
   "outputs": [
    {
     "data": {
      "text/plain": [
       "(137698, 9)"
      ]
     },
     "execution_count": 5,
     "metadata": {},
     "output_type": "execute_result"
    }
   ],
   "source": [
    "sql = \\\n",
    "\"\"\"\n",
    "SELECT \n",
    "    review_date, \n",
    "    energy_100g, fat_100g, fiber_100g, \n",
    "    carbohydrates_100g, proteins_100g, \n",
    "    salt_100g, sodium_100g, sugars_100g\n",
    "FROM \n",
    "    food_reviews\n",
    "WHERE \n",
    "    energy_100g IS NOT NULL\n",
    "    AND energy_100g < 3000\n",
    "    AND review_date >= '2010-01-01'\n",
    "\"\"\"\n",
    "df = pd.read_sql(sql, con=engine)\n",
    "df.shape"
   ]
  },
  {
   "cell_type": "code",
   "execution_count": 6,
   "metadata": {},
   "outputs": [
    {
     "data": {
      "image/png": "[encoded data removed]",
      "text/plain": [
       "<Figure size 720x288 with 1 Axes>"
      ]
     },
     "metadata": {
      "needs_background": "light"
     },
     "output_type": "display_data"
    }
   ],
   "source": [
    "# shown with boxplot\n",
    "plt.figure(figsize=(10, 4))\n",
    "sns.boxplot(x=df.review_date.dt.month, y=df.energy_100g)\n",
    "\n",
    "plt.xlabel('Month')\n",
    "plt.xticks(range(12), month_name[1:13], rotation=20)\n",
    "plt.ylabel('Energy Per 100g')\n",
    "plt.suptitle('Purchased Grocery Nutrients: Energy', fontsize=20)\n",
    "\n",
    "# plt.savefig('./figures/nutrients-energy.png', bbox_inches='tight', dpi=300)\n",
    "plt.show()\n",
    "# boxes are higher at 1, 2, and 12\n",
    "# with non_verified reviews"
   ]
  },
  {
   "cell_type": "code",
   "execution_count": null,
   "metadata": {},
   "outputs": [],
   "source": []
  },
  {
   "cell_type": "code",
   "execution_count": null,
   "metadata": {},
   "outputs": [],
   "source": []
  },
  {
   "cell_type": "code",
   "execution_count": null,
   "metadata": {},
   "outputs": [],
   "source": []
  },
  {
   "cell_type": "markdown",
   "metadata": {},
   "source": [
    "### 2. Sweeter Foods with Product Ratings"
   ]
  },
  {
   "cell_type": "code",
   "execution_count": 7,
   "metadata": {},
   "outputs": [
    {
     "data": {
      "text/plain": [
       "(115341, 11)"
      ]
     },
     "execution_count": 7,
     "metadata": {},
     "output_type": "execute_result"
    }
   ],
   "source": [
    "sql = \\\n",
    "\"\"\"\n",
    "SELECT \n",
    "    review_id, review_date, star_rating, \n",
    "    energy_100g, fat_100g, fiber_100g, \n",
    "    carbohydrates_100g, proteins_100g, \n",
    "    salt_100g, sodium_100g, sugars_100g\n",
    "FROM \n",
    "    food_reviews\n",
    "WHERE \n",
    "    energy_100g IS NOT NULL\n",
    "    AND energy_100g < 3000\n",
    "    AND review_date >= '2010-01-01'\n",
    "    AND verified_purchase LIKE 'Y'\n",
    "\"\"\"\n",
    "df = pd.read_sql(sql, con=engine)\n",
    "df.shape"
   ]
  },
  {
   "cell_type": "code",
   "execution_count": 8,
   "metadata": {},
   "outputs": [
    {
     "data": {
      "image/png": "[encoded data removed]",
      "text/plain": [
       "<Figure size 720x288 with 1 Axes>"
      ]
     },
     "metadata": {
      "needs_background": "light"
     },
     "output_type": "display_data"
    }
   ],
   "source": [
    "plt.figure(figsize=(10, 4))\n",
    "sns.boxplot(x='star_rating', y='sugars_100g', data=df)\n",
    "\n",
    "plt.xlabel('Star Rating')\n",
    "plt.ylabel('Sugar Content, per 100g')\n",
    "plt.suptitle('Grocery Rating by sugar content', fontsize=20)\n",
    "# plt.savefig('./figures/sugar.png', bbox_inches='tight', dpi=300)\n",
    "plt.show()"
   ]
  },
  {
   "cell_type": "code",
   "execution_count": null,
   "metadata": {},
   "outputs": [],
   "source": []
  },
  {
   "cell_type": "code",
   "execution_count": null,
   "metadata": {},
   "outputs": [],
   "source": []
  },
  {
   "cell_type": "markdown",
   "metadata": {},
   "source": [
    "### 3. What are the Non-Verified reviews?"
   ]
  },
  {
   "cell_type": "code",
   "execution_count": 9,
   "metadata": {},
   "outputs": [
    {
     "data": {
      "text/plain": [
       "(137698, 13)"
      ]
     },
     "execution_count": 9,
     "metadata": {},
     "output_type": "execute_result"
    }
   ],
   "source": [
    "sql = \\\n",
    "\"\"\"\n",
    "SELECT \n",
    "    review_id, review_date, star_rating, \n",
    "    verified_purchase, main_category_en,\n",
    "    energy_100g, fat_100g, fiber_100g, \n",
    "    carbohydrates_100g, proteins_100g, \n",
    "    salt_100g, sodium_100g, sugars_100g\n",
    "FROM \n",
    "    food_reviews\n",
    "WHERE \n",
    "    energy_100g IS NOT NULL\n",
    "    AND energy_100g < 3000\n",
    "    AND review_date >= '2010-01-01'\n",
    "\"\"\"\n",
    "df = pd.read_sql(sql, con=engine)\n",
    "df.shape"
   ]
  },
  {
   "cell_type": "code",
   "execution_count": 10,
   "metadata": {},
   "outputs": [
    {
     "data": {
      "text/plain": [
       "Y    115341\n",
       "N     22357\n",
       "Name: verified_purchase, dtype: int64"
      ]
     },
     "execution_count": 10,
     "metadata": {},
     "output_type": "execute_result"
    }
   ],
   "source": [
    "df.verified_purchase.value_counts()"
   ]
  },
  {
   "cell_type": "code",
   "execution_count": 11,
   "metadata": {},
   "outputs": [
    {
     "data": {
      "text/plain": [
       "Beverages                          3213\n",
       "Spreads                            2175\n",
       "Snacks                             1882\n",
       "Plant-based foods and beverages    1526\n",
       "Groceries                           902\n",
       "Meats                               288\n",
       "fr:the-vert-aromatise               171\n",
       "Dairies                             139\n",
       "Fruit juices                         98\n",
       "Cooking helpers                      88\n",
       "Name: main_category_en, dtype: int64"
      ]
     },
     "execution_count": 11,
     "metadata": {},
     "output_type": "execute_result"
    }
   ],
   "source": [
    "df[df.verified_purchase == 'N'].main_category_en.value_counts().head(10)\n",
    "# most are at beverages and spreads"
   ]
  },
  {
   "cell_type": "code",
   "execution_count": null,
   "metadata": {},
   "outputs": [],
   "source": []
  },
  {
   "cell_type": "markdown",
   "metadata": {},
   "source": [
    "## 4. Review Time and Product Rating\n",
    "+ day of week vs. product rating"
   ]
  },
  {
   "cell_type": "code",
   "execution_count": 39,
   "metadata": {},
   "outputs": [
    {
     "data": {
      "text/plain": [
       "(115341, 3)"
      ]
     },
     "execution_count": 39,
     "metadata": {},
     "output_type": "execute_result"
    }
   ],
   "source": [
    "sql = \\\n",
    "\"\"\"\n",
    "SELECT \n",
    "    review_date, star_rating\n",
    "FROM \n",
    "    food_reviews\n",
    "WHERE \n",
    "    energy_100g IS NOT NULL\n",
    "    AND energy_100g < 3000\n",
    "    AND review_date >= '2010-01-01'\n",
    "    AND verified_purchase LIKE 'Y'\n",
    "\"\"\"\n",
    "df = pd.read_sql(sql, con=engine)\n",
    "df.shape"
   ]
  },
  {
   "cell_type": "code",
   "execution_count": 45,
   "metadata": {},
   "outputs": [
    {
     "data": {
      "image/png": "[encoded data removed]",
      "text/plain": [
       "<Figure size 720x288 with 1 Axes>"
      ]
     },
     "metadata": {
      "needs_background": "light"
     },
     "output_type": "display_data"
    }
   ],
   "source": [
    "plt.figure(figsize=(10, 4))\n",
    "sns.boxplot(x=df.review_date.dt.dayofweek, y=df.star_rating)\n",
    "\n",
    "plt.xlabel('Day of A week')\n",
    "plt.ylabel('Star Rating')\n",
    "plt.show()\n",
    "# no significant difference"
   ]
  },
  {
   "cell_type": "code",
   "execution_count": null,
   "metadata": {},
   "outputs": [],
   "source": []
  },
  {
   "cell_type": "markdown",
   "metadata": {},
   "source": [
    "### 5. Helpful vs. Not Helpful Reviews\n",
    "+ What are helpful and non-helpful review saying?\n",
    "+ Using Trigram model for sentence generations\n",
    "+ Choose different start word to generate"
   ]
  },
  {
   "cell_type": "code",
   "execution_count": 12,
   "metadata": {},
   "outputs": [],
   "source": [
    "import re\n",
    "import json\n",
    "import operator\n",
    "# import pprint\n",
    "from nltk.util import ngrams\n",
    "from collections import Counter"
   ]
  },
  {
   "cell_type": "code",
   "execution_count": 13,
   "metadata": {},
   "outputs": [
    {
     "data": {
      "text/plain": [
       "(44363, 6)"
      ]
     },
     "execution_count": 13,
     "metadata": {},
     "output_type": "execute_result"
    }
   ],
   "source": [
    "sql = \\\n",
    "\"\"\"\n",
    "SELECT \n",
    "    review_id, \n",
    "    helpful_votes, total_votes,\n",
    "    review_headline, review_body\n",
    "FROM \n",
    "    food_reviews\n",
    "WHERE \n",
    "    energy_100g IS NOT NULL\n",
    "    AND energy_100g < 3000\n",
    "    AND review_date >= '2010-01-01'\n",
    "    AND verified_purchase LIKE 'Y'\n",
    "    AND total_votes > 0\n",
    "\"\"\"\n",
    "# assume helpful_votes / total_votes > .5 is a helpful review\n",
    "df = pd.read_sql(sql, con=engine)\\\n",
    "    .assign(helpful=lambda df: df.helpful_votes/df.total_votes >= .5)\n",
    "df.shape"
   ]
  },
  {
   "cell_type": "code",
   "execution_count": 14,
   "metadata": {},
   "outputs": [],
   "source": [
    "# given a review string, return list of list of tokens\n",
    "def reviewTokenize(review):\n",
    "    # remove line breaker, non-word, except space and period,\n",
    "    review =  re.sub(r'<br />|[^A-Za-z. ]', '', review.lower())\n",
    "    # remove space at setence end\n",
    "    review =  re.sub(r'\\s$', '', review)\n",
    "    # reduce multiple space to single\n",
    "    review = re.sub(' +', ' ', review) \n",
    "    # split by end of sentence \n",
    "    sents = review.split('.')\n",
    "    # split into tokens, ignore empty string\n",
    "    return [[token for token in sent.split(' ') if token != ''] \\\n",
    "            for sent in sents if sent != '' ] "
   ]
  },
  {
   "cell_type": "code",
   "execution_count": 15,
   "metadata": {},
   "outputs": [],
   "source": [
    "# using dict, then convert to Counter\n",
    "def build_trigrams(review_bodys):\n",
    "    model = {}\n",
    "    for review in review_bodys:\n",
    "        for sent in reviewTokenize(review):\n",
    "            trigrams = ngrams(sent, 3, pad_left=True, pad_right=True, \\\n",
    "                             left_pad_symbol='<s>', right_pad_symbol='</s>')\n",
    "            for trigram in trigrams:\n",
    "                if model.get(trigram) is not None:\n",
    "                    model[trigram] += 1\n",
    "                else:\n",
    "                    model[trigram] = 1\n",
    "    return model"
   ]
  },
  {
   "cell_type": "code",
   "execution_count": 16,
   "metadata": {},
   "outputs": [],
   "source": [
    "# turn the result into dict \n",
    "def trigram_to_dict(trigrams):\n",
    "    d = {}\n",
    "    for words, p in trigrams: \n",
    "        w1, w2, w3 = words\n",
    "        if d.get(w1) is not None:\n",
    "            if d[w1].get(w2) is not None:\n",
    "                d[w1][w2][w3] = p\n",
    "            else:\n",
    "                d[w1][w2] = {w3: p}\n",
    "        else:\n",
    "            d[w1] = {w2: {w3: p}}\n",
    "    return d\n",
    "# pprint.pprint(d)"
   ]
  },
  {
   "cell_type": "code",
   "execution_count": null,
   "metadata": {},
   "outputs": [],
   "source": []
  },
  {
   "cell_type": "markdown",
   "metadata": {},
   "source": [
    "### Helpful Reviews"
   ]
  },
  {
   "cell_type": "code",
   "execution_count": 17,
   "metadata": {},
   "outputs": [],
   "source": [
    "modelHelpful = build_trigrams(df[df.helpful == True].review_body)\n",
    "freqHelpful = [(k, v / len(modelHelpful) * 100.0) for k, v in modelHelpful.items()]\n",
    "helpful = trigram_to_dict(freqHelpful)"
   ]
  },
  {
   "cell_type": "code",
   "execution_count": 18,
   "metadata": {},
   "outputs": [
    {
     "data": {
      "text/plain": [
       "['<s>', '<s>', 'i', 'have', 'been', 'using', 'this', 'product', '</s>', '</s>']"
      ]
     },
     "execution_count": 18,
     "metadata": {},
     "output_type": "execute_result"
    }
   ],
   "source": [
    "textLen = 10\n",
    "sentence = ['<s>', '<s>']\n",
    "while len(sentence) < textLen:\n",
    "    w1, w2 = sentence[-2:]\n",
    "    if (w1 == '</s>') & (w2 == '</s>'): \n",
    "        break\n",
    "    next_word = max(helpful[w1][w2].items(), key=operator.itemgetter(1))[0]\n",
    "    sentence.append(next_word)\n",
    "sentence"
   ]
  },
  {
   "cell_type": "code",
   "execution_count": null,
   "metadata": {},
   "outputs": [],
   "source": []
  },
  {
   "cell_type": "markdown",
   "metadata": {},
   "source": [
    "### Non-helpful Reviews"
   ]
  },
  {
   "cell_type": "code",
   "execution_count": 19,
   "metadata": {},
   "outputs": [],
   "source": [
    "mdlNotHelpful = build_trigrams(df[df.helpful == False].review_body)\n",
    "freqNotHelpful = [(k, v / len(mdlNotHelpful) * 100.0) for k, v in mdlNotHelpful.items()]\n",
    "notHelpful = trigram_to_dict(freqNotHelpful)"
   ]
  },
  {
   "cell_type": "code",
   "execution_count": 20,
   "metadata": {},
   "outputs": [
    {
     "data": {
      "text/plain": [
       "'<s> <s> i have to say i am not a good price </s> </s>'"
      ]
     },
     "execution_count": 20,
     "metadata": {},
     "output_type": "execute_result"
    }
   ],
   "source": [
    "textLen = 20\n",
    "sentence = ['<s>', '<s>']\n",
    "while len(sentence) < textLen:\n",
    "    w1, w2 = sentence[-2:]\n",
    "    if (w1 == '</s>') & (w2 == '</s>'): \n",
    "        break\n",
    "    next_word = max(notHelpful[w1][w2].items(), key=operator.itemgetter(1))[0]\n",
    "    sentence.append(next_word)\n",
    "' '.join(sentence)"
   ]
  },
  {
   "cell_type": "code",
   "execution_count": null,
   "metadata": {},
   "outputs": [],
   "source": []
  },
  {
   "cell_type": "markdown",
   "metadata": {},
   "source": [
    "### Export both dict"
   ]
  },
  {
   "cell_type": "code",
   "execution_count": 21,
   "metadata": {},
   "outputs": [],
   "source": [
    "# reduce frequency dict size\n",
    "def reduce_dictSize(freqDict, size=5, startingSize=30): \n",
    "    for w1 in freqDict.keys():\n",
    "        for w2 in freqDict[w1].keys():\n",
    "            # if sentence starting tokens\n",
    "            if (w1 == '<s>') & (w2 == '<s>'): \n",
    "                tmp = dict(sorted(freqDict[w1][w2].items(), \\\n",
    "                                  key=lambda kv: kv[1], reverse=True)[:startingSize])\n",
    "            # if other tokens\n",
    "            else: \n",
    "                tmp = dict(sorted(freqDict[w1][w2].items(), \\\n",
    "                                  key=lambda kv: kv[1], reverse=True)[:size])\n",
    "            freqDict[w1][w2] = tmp\n",
    "    return freqDict"
   ]
  },
  {
   "cell_type": "code",
   "execution_count": 22,
   "metadata": {},
   "outputs": [],
   "source": [
    "d = {'helpful': reduce_dictSize(helpful, 3, 10), \\\n",
    "     'notHelpful': reduce_dictSize(notHelpful, 3, 10) }"
   ]
  },
  {
   "cell_type": "code",
   "execution_count": 23,
   "metadata": {},
   "outputs": [],
   "source": [
    "# with open('helpful_reviews.json', 'w', encoding='utf-8') as f:\n",
    "#     json.dump(d, f, ensure_ascii=False, indent=4)"
   ]
  },
  {
   "cell_type": "code",
   "execution_count": 24,
   "metadata": {},
   "outputs": [
    {
     "data": {
      "text/plain": [
       "(33921, 14493)"
      ]
     },
     "execution_count": 24,
     "metadata": {},
     "output_type": "execute_result"
    }
   ],
   "source": [
    "len(d['helpful']), len(d['notHelpful'])"
   ]
  },
  {
   "cell_type": "code",
   "execution_count": null,
   "metadata": {},
   "outputs": [],
   "source": []
  },
  {
   "cell_type": "code",
   "execution_count": 84,
   "metadata": {},
   "outputs": [],
   "source": [
    "def recursion(sent, sents, trigrams):\n",
    "    w1, w2 = sent[-2:]\n",
    "     # terminate condition: end of sentence or sentence length\n",
    "    if (w1 == '</s>') | (w2 == '</s>'): \n",
    "        sents.append(sent[1:])\n",
    "        return sents\n",
    "    if len(sent) >= 12: # limit setence length\n",
    "        return sents\n",
    "    \n",
    "    # iterate each word on subset \n",
    "    for word in trigrams[w1][w2].keys():\n",
    "        sents = recursion(sent+[word], sents, trigrams)\n",
    "    return sents"
   ]
  },
  {
   "cell_type": "code",
   "execution_count": 86,
   "metadata": {},
   "outputs": [
    {
     "data": {
      "text/plain": [
       "(1601, 1352)"
      ]
     },
     "execution_count": 86,
     "metadata": {},
     "output_type": "execute_result"
    }
   ],
   "source": [
    "# build sentences to visualization\n",
    "helpfulSents = recursion(['<s>', '<s>', 'i'], [], helpful)\n",
    "notHelpfulSents = recursion(['<s>', '<s>', 'i'], [], notHelpful)\n",
    "len(helpfulSents), len(notHelpfulSents)"
   ]
  },
  {
   "cell_type": "code",
   "execution_count": null,
   "metadata": {},
   "outputs": [],
   "source": [
    "for sent in hel"
   ]
  },
  {
   "cell_type": "code",
   "execution_count": 85,
   "metadata": {},
   "outputs": [],
   "source": [
    "v = {'helpful': helpfulSents, \n",
    "    'notHelpful': notHelpfulSents}\n",
    "with open('helpful_sents.json', 'w', encoding='utf-8') as f:\n",
    "    json.dump(v, f, ensure_ascii=False, indent=4)"
   ]
  },
  {
   "cell_type": "code",
   "execution_count": null,
   "metadata": {},
   "outputs": [],
   "source": []
  },
  {
   "cell_type": "markdown",
   "metadata": {},
   "source": [
    "## 6. Nutrients vs. Time\n",
    "+ plot not meaningful, showing no time difference in values\n",
    "+ not shown"
   ]
  },
  {
   "cell_type": "code",
   "execution_count": 63,
   "metadata": {},
   "outputs": [],
   "source": [
    "nutrients = [\n",
    "    'energy_100g', 'fat_100g', 'fiber_100g', \n",
    "    'carbohydrates_100g', 'proteins_100g', \n",
    "    'salt_100g', 'sodium_100g', 'sugars_100g'\n",
    "]"
   ]
  },
  {
   "cell_type": "code",
   "execution_count": 5,
   "metadata": {},
   "outputs": [],
   "source": [
    "start_date = '2014-01-01'\n",
    "end_date = '2014-12-31'"
   ]
  },
  {
   "cell_type": "code",
   "execution_count": 25,
   "metadata": {},
   "outputs": [
    {
     "data": {
      "text/plain": [
       "(44152, 9)"
      ]
     },
     "execution_count": 25,
     "metadata": {},
     "output_type": "execute_result"
    }
   ],
   "source": [
    "sql = \\\n",
    "\"\"\"\n",
    "SELECT \n",
    "    review_date,\n",
    "    energy_100g, fat_100g, fiber_100g, \n",
    "    carbohydrates_100g, proteins_100g, \n",
    "    salt_100g, sodium_100g, sugars_100g\n",
    "FROM \n",
    "    food_reviews\n",
    "WHERE \n",
    "    energy_100g IS NOT NULL\n",
    "    AND energy_100g < 3000\n",
    "    AND review_date BETWEEN '{0}' AND '{1}'\n",
    "ORDER BY\n",
    "    review_date\n",
    "\"\"\".format(start_date, end_date)\n",
    "df = pd.read_sql(sql, con=engine)\n",
    "df.shape"
   ]
  },
  {
   "cell_type": "code",
   "execution_count": 51,
   "metadata": {},
   "outputs": [
    {
     "data": {
      "text/plain": [
       "2920"
      ]
     },
     "execution_count": 51,
     "metadata": {},
     "output_type": "execute_result"
    }
   ],
   "source": [
    "dateIdx = []\n",
    "for nutri in nutrients:\n",
    "    for date in pd.date_range(start_date, end_date, freq='D'):\n",
    "        dateIdx.append((nutri, date))\n",
    "len(dateIdx) # (number of nutrients) * (number of days)"
   ]
  },
  {
   "cell_type": "code",
   "execution_count": 52,
   "metadata": {},
   "outputs": [],
   "source": [
    "# data preparation\n",
    "data = df.fillna(0)\\\n",
    "    .melt(id_vars='review_date', value_vars=nutrients)\\\n",
    "    .groupby(['variable', 'review_date']).agg('mean')\\\n",
    "    .reindex(dateIdx, fill_value=0)\\\n",
    "    .reset_index()"
   ]
  },
  {
   "cell_type": "code",
   "execution_count": 53,
   "metadata": {},
   "outputs": [],
   "source": [
    "# calculate p\n",
    "data = data\\\n",
    "    .assign(nutrientSum=lambda d: d.groupby('variable')[['value']].transform('sum'))\\\n",
    "    .assign(p=lambda d: d.value / d.nutrientSum)"
   ]
  },
  {
   "cell_type": "code",
   "execution_count": 56,
   "metadata": {},
   "outputs": [],
   "source": [
    "# calculate max p\n",
    "data = data\\\n",
    "    .assign(nutrientMaxP=lambda d: d.groupby('variable')[['p']].transform(max))\\\n",
    "    .assign(p_peak=lambda d: d.p / d.nutrientMaxP)"
   ]
  },
  {
   "cell_type": "code",
   "execution_count": 57,
   "metadata": {},
   "outputs": [],
   "source": [
    "# calculate smoothed p, 3 days smoothing\n",
    "data = data\\\n",
    "    .assign(p_lag1=lambda d: d.groupby('variable')[['p_peak']].shift(-1))\\\n",
    "    .assign(p_lead1=lambda d: d.groupby('variable')[['p_peak']].shift(1))\\\n",
    "    .assign(p_smooth=lambda d: (d.p_lag1 + d.p_peak + d.p_lead1) / 3)"
   ]
  },
  {
   "cell_type": "markdown",
   "metadata": {},
   "source": [
    "```python\n",
    "# add p smooth attribute, w/ 7 days smoothing\n",
    "data = data\\\n",
    "    .assign(p_lag1=lambda d: d.groupby('variable')[['p_peak']].shift(-1))\\\n",
    "    .assign(p_lag2=lambda d: d.groupby('variable')[['p_peak']].shift(-2))\\\n",
    "    .assign(p_lag3=lambda d: d.groupby('variable')[['p_peak']].shift(-3))\\\n",
    "    .assign(p_lead1=lambda d: d.groupby('variable')[['p_peak']].shift(1))\\\n",
    "    .assign(p_lead2=lambda d: d.groupby('variable')[['p_peak']].shift(2))\\\n",
    "    .assign(p_lead3=lambda d: d.groupby('variable')[['p_peak']].shift(3))\\\n",
    "    .assign(p_smooth7=lambda d: (d.p_lag1 + d.p_lag2 + d.p_lag3 + \n",
    "                                 d.p_lead1 + d.p_lead2 + d.p_lead3 +\n",
    "                                 d.p_peak) / 7)\\\n",
    "    .drop(['p_lag1', 'p_lag2', 'p_lag3', 'p_lead1', 'p_lead2', 'p_lead3'], axis=1)\\\n",
    "    .fillna(method='ffill', axis=1)\n",
    "data.shape\n",
    "```"
   ]
  },
  {
   "cell_type": "code",
   "execution_count": 59,
   "metadata": {},
   "outputs": [],
   "source": [
    "# clean up data\n",
    "data = data\\\n",
    "    .drop(['value', 'nutrientSum', 'nutrientMaxP', 'p_lag1', 'p_lead1',], axis=1)\\\n",
    "    .rename(columns={'variable': 'nutrient', 'review_date': 'date'})\\\n",
    "    .fillna(method='ffill', axis=1)"
   ]
  },
  {
   "cell_type": "code",
   "execution_count": 62,
   "metadata": {},
   "outputs": [
    {
     "data": {
      "text/plain": [
       "'[{\"nutrients\":\"energy_100g\",\"date\":1388534400000,\"p\":0.0026463286,\"p_peak\":0.7692830057,\"p_smooth\":0.7692830057},{\"nutrients\":\"energy_100g\",\"date\":1388620800000,\"p\":0.0029755228,\"p_peak\":0.8649791847,\"p_smooth\":0.7959088311},{\"nutrients\":\"energy_100g\",\"date\":1388707200000,\"p\":0.0025919123,\"p_peak\":0.753464303,\"p_smooth\":0.8461413041}]'"
      ]
     },
     "execution_count": 62,
     "metadata": {},
     "output_type": "execute_result"
    }
   ],
   "source": [
    "# sample for first 3 rows\n",
    "data.iloc[:3, :].to_json(orient='records')\n",
    "# data.to_json('local.json', orient='records', )"
   ]
  },
  {
   "cell_type": "code",
   "execution_count": null,
   "metadata": {},
   "outputs": [],
   "source": []
  },
  {
   "cell_type": "code",
   "execution_count": null,
   "metadata": {},
   "outputs": [],
   "source": []
  },
  {
   "cell_type": "markdown",
   "metadata": {},
   "source": [
    "## 7. Categories vs. Time\n",
    "+ ridgeline plot"
   ]
  },
  {
   "cell_type": "code",
   "execution_count": 64,
   "metadata": {},
   "outputs": [],
   "source": [
    "start_date = '2014-01-01'\n",
    "end_date = '2014-12-31'"
   ]
  },
  {
   "cell_type": "code",
   "execution_count": 65,
   "metadata": {},
   "outputs": [],
   "source": [
    "query = \\\n",
    "\"\"\"\n",
    "SELECT \n",
    "    main_category_en AS category, \n",
    "    review_date, \n",
    "    review_id AS id\n",
    "FROM \n",
    "    food_reviews\n",
    "WHERE \n",
    "    energy_100g IS NOT NULL\n",
    "    AND review_date IS NOT NULL\n",
    "    AND main_category_en IS NOT NULL\n",
    "    AND energy_100g < 3000\n",
    "    AND salt_100g < 100\n",
    "    AND main_category_en SIMILAR TO '[A-Z]_*'\n",
    "    AND review_date BETWEEN '{0}' AND '{1}'\n",
    "ORDER BY\n",
    "    review_date\n",
    "\"\"\".format(start_date, end_date)\n",
    "df = pd.read_sql(query, con=engine)"
   ]
  },
  {
   "cell_type": "code",
   "execution_count": 66,
   "metadata": {},
   "outputs": [
    {
     "data": {
      "text/plain": [
       "233"
      ]
     },
     "execution_count": 66,
     "metadata": {},
     "output_type": "execute_result"
    }
   ],
   "source": [
    "# get top 10 threshold\n",
    "threshold = df.groupby('category')[['id']].count()\\\n",
    "    .sort_values('id', ascending=False)\\\n",
    "    .iloc[9, 0] # get 10th category count\n",
    "threshold"
   ]
  },
  {
   "cell_type": "code",
   "execution_count": 82,
   "metadata": {},
   "outputs": [
    {
     "data": {
      "text/plain": [
       "(16048, 4)"
      ]
     },
     "execution_count": 82,
     "metadata": {},
     "output_type": "execute_result"
    }
   ],
   "source": [
    "# Sice by TOP10 threshold\n",
    "top10 = df.assign(counts=lambda d: d.groupby('category')[['id']].transform('count'))\\\n",
    "        .query('counts >= {}'.format(threshold))\\\n",
    "        .replace({'Plant-based foods and beverages': 'Plant-Based', \n",
    "                  'Products without gluten': 'No Gluten',\n",
    "                  'Coffee-creamer': 'Creamer'})\\\n",
    "        .reset_index(drop=True)\n",
    "top10.shape"
   ]
  },
  {
   "cell_type": "code",
   "execution_count": 83,
   "metadata": {},
   "outputs": [
    {
     "data": {
      "text/plain": [
       "array(['Beverages', 'Plant-Based', 'Groceries', 'Snacks', 'Spreads',\n",
       "       'Meats', 'Dairies', 'Creamer', 'No Gluten', 'Sweeteners'],\n",
       "      dtype=object)"
      ]
     },
     "execution_count": 83,
     "metadata": {},
     "output_type": "execute_result"
    }
   ],
   "source": [
    "top10.category.unique()"
   ]
  },
  {
   "cell_type": "markdown",
   "metadata": {},
   "source": [
    "### Date Range index\n",
    "+ Not Every Category has data for every date in the range\n",
    "+ Supplement with 0 value \n",
    "+ Use Date Index"
   ]
  },
  {
   "cell_type": "code",
   "execution_count": 69,
   "metadata": {},
   "outputs": [
    {
     "data": {
      "text/plain": [
       "3650"
      ]
     },
     "execution_count": 69,
     "metadata": {},
     "output_type": "execute_result"
    }
   ],
   "source": [
    "date_idx = []\n",
    "for category in top10.category.unique():\n",
    "    for date in pd.date_range(start_date, end_date, freq='D'):\n",
    "        date_idx.append((category, date))\n",
    "len(date_idx) # (number of category) * (number of days)"
   ]
  },
  {
   "cell_type": "markdown",
   "metadata": {},
   "source": [
    "### Plotting Values"
   ]
  },
  {
   "cell_type": "code",
   "execution_count": 70,
   "metadata": {},
   "outputs": [
    {
     "data": {
      "text/plain": [
       "(3650, 3)"
      ]
     },
     "execution_count": 70,
     "metadata": {},
     "output_type": "execute_result"
    }
   ],
   "source": [
    "# add p attribute\n",
    "data = top10.groupby(['category', 'review_date'])[['id']].count()\\\n",
    "    .reindex(date_idx, fill_value=0)\\\n",
    "    .reset_index()\\\n",
    "    .assign(byCategorySum=lambda d: d.groupby('category')[['id']].transform('sum'))\\\n",
    "    .assign(p=lambda d: d.id / d.byCategorySum)\\\n",
    "    .drop(['id', 'byCategorySum'], axis=1)\n",
    "data.shape"
   ]
  },
  {
   "cell_type": "code",
   "execution_count": 71,
   "metadata": {},
   "outputs": [
    {
     "data": {
      "text/plain": [
       "(3650, 4)"
      ]
     },
     "execution_count": 71,
     "metadata": {},
     "output_type": "execute_result"
    }
   ],
   "source": [
    "# add p peak attribute\n",
    "data = data.assign(byCategoryMaxP=lambda d: d.groupby('category')[['p']].transform(max))\\\n",
    "    .assign(p_peak=lambda d: d.p / d.byCategoryMaxP)\\\n",
    "    .drop(['byCategoryMaxP'], axis=1)\n",
    "data.shape"
   ]
  },
  {
   "cell_type": "code",
   "execution_count": 72,
   "metadata": {},
   "outputs": [
    {
     "data": {
      "text/plain": [
       "(3650, 5)"
      ]
     },
     "execution_count": 72,
     "metadata": {},
     "output_type": "execute_result"
    }
   ],
   "source": [
    "# add p smooth attribute\n",
    "data = data.assign(p_lag1=lambda d: d.groupby('category')[['p_peak']].shift(-1))\\\n",
    "    .assign(p_lead1=lambda d: d.groupby('category')[['p_peak']].shift(1))\\\n",
    "    .assign(p_smooth=lambda d: (d.p_lag1 + d.p_peak + d.p_lead1) / 3)\\\n",
    "    .drop(['p_lag1', 'p_lead1'], axis=1)\\\n",
    "    .fillna(method='ffill', axis=1)\n",
    "data.shape"
   ]
  },
  {
   "cell_type": "code",
   "execution_count": 73,
   "metadata": {},
   "outputs": [
    {
     "data": {
      "text/plain": [
       "(3650, 6)"
      ]
     },
     "execution_count": 73,
     "metadata": {},
     "output_type": "execute_result"
    }
   ],
   "source": [
    "# add p smooth attribute, w/ 7 days smoothing\n",
    "data = data\\\n",
    "    .assign(p_lag1=lambda d: d.groupby('category')[['p_peak']].shift(-1))\\\n",
    "    .assign(p_lag2=lambda d: d.groupby('category')[['p_peak']].shift(-2))\\\n",
    "    .assign(p_lag3=lambda d: d.groupby('category')[['p_peak']].shift(-3))\\\n",
    "    .assign(p_lead1=lambda d: d.groupby('category')[['p_peak']].shift(1))\\\n",
    "    .assign(p_lead2=lambda d: d.groupby('category')[['p_peak']].shift(2))\\\n",
    "    .assign(p_lead3=lambda d: d.groupby('category')[['p_peak']].shift(3))\\\n",
    "    .assign(p_smooth7=lambda d: (d.p_lag1 + d.p_lag2 + d.p_lag3 + \n",
    "                                 d.p_lead1 + d.p_lead2 + d.p_lead3 +\n",
    "                                 d.p_peak) / 7)\\\n",
    "    .drop(['p_lag1', 'p_lag2', 'p_lag3', 'p_lead1', 'p_lead2', 'p_lead3'], axis=1)\\\n",
    "    .fillna(method='ffill', axis=1)\n",
    "data.shape"
   ]
  },
  {
   "cell_type": "code",
   "execution_count": 74,
   "metadata": {},
   "outputs": [
    {
     "data": {
      "text/plain": [
       "'[{\"category\":\"Beverages\",\"review_date\":1388534400000,\"p\":0.0016230002,\"p_peak\":0.2121212121,\"p_smooth\":0.2121212121,\"p_smooth7\":0.2121212121},{\"category\":\"Beverages\",\"review_date\":1388620800000,\"p\":0.0016230002,\"p_peak\":0.2121212121,\"p_smooth\":0.2424242424,\"p_smooth7\":0.2424242424},{\"category\":\"Beverages\",\"review_date\":1388707200000,\"p\":0.0023185718,\"p_peak\":0.303030303,\"p_smooth\":0.2222222222,\"p_smooth7\":0.2222222222}]'"
      ]
     },
     "execution_count": 74,
     "metadata": {},
     "output_type": "execute_result"
    }
   ],
   "source": [
    "# export to json, as records\n",
    "# [{category: ..., review_date: ..., p: ..., p_peak: ..., p_smooth: ...}, {}, {}, ...]\n",
    "data.iloc[:3, :].to_json(orient='records')"
   ]
  },
  {
   "cell_type": "code",
   "execution_count": null,
   "metadata": {},
   "outputs": [],
   "source": []
  },
  {
   "cell_type": "code",
   "execution_count": null,
   "metadata": {},
   "outputs": [],
   "source": []
  }
 ],
 "metadata": {
  "kernelspec": {
   "display_name": "Python (sklearn)",
   "language": "python",
   "name": "sklearn"
  },
  "language_info": {
   "codemirror_mode": {
    "name": "ipython",
    "version": 3
   },
   "file_extension": ".py",
   "mimetype": "text/x-python",
   "name": "python",
   "nbconvert_exporter": "python",
   "pygments_lexer": "ipython3",
   "version": "3.7.3"
  }
 },
 "nbformat": 4,
 "nbformat_minor": 4
}
