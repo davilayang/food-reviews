{
 "cells": [
  {
   "cell_type": "markdown",
   "metadata": {},
   "source": [
    "# Explore Dataset Individually"
   ]
  },
  {
   "cell_type": "code",
   "execution_count": 1,
   "metadata": {},
   "outputs": [],
   "source": [
    "import os\n",
    "import re\n",
    "import numpy as np\n",
    "import pandas as pd\n",
    "\n",
    "# stop words list\n",
    "from nltk.corpus import stopwords\n",
    "stopWords = set(stopwords.words('english'))\n",
    "\n",
    "# disable SettingWithCopyWarning \n",
    "pd.options.mode.chained_assignment = None # default='warn'"
   ]
  },
  {
   "cell_type": "markdown",
   "metadata": {},
   "source": [
    "## Open Food Facts dataset\n",
    "+ https://world.openfoodfacts.org/data"
   ]
  },
  {
   "cell_type": "code",
   "execution_count": 2,
   "metadata": {},
   "outputs": [
    {
     "data": {
      "text/plain": [
       "(949695, 175)"
      ]
     },
     "execution_count": 2,
     "metadata": {},
     "output_type": "execute_result"
    }
   ],
   "source": [
    "# set dtype of code to keep values starting with 0, set dtype of others to avoid DtypeWarning\n",
    "data_path = 'D:\\DATA\\practice-dataset\\zipped'\n",
    "off = pd.read_csv(os.path.join(data_path, 'en.openfoodfacts.org.products.csv.zip'), \\\n",
    "                  dtype={'code': 'object', \n",
    "                         'emb_codes': 'object', 'emb_codes_tags': 'object',\n",
    "                         'first_packaging_code_geo': 'object',\n",
    "                         'cities_tags': 'object', 'additives': 'object',\n",
    "                         'ingredients_from_palm_oil_tags': 'object'}, \\\n",
    "                  compression='zip', sep='\\t')\n",
    "\n",
    "# IF using kaggle server\n",
    "# data_path = '/kaggle/input/'\n",
    "# off = pd.read_csv(os.path.join(data_path, 'en.openfoodfacts.org.products.csv'), \\\n",
    "#                   dtype={'code': 'object', \n",
    "#                          'emb_codes': 'object', 'emb_codes_tags': 'object',\n",
    "#                          'first_packaging_code_geo': 'object',\n",
    "#                          'cities_tags': 'object', 'additives': 'object',\n",
    "#                          'ingredients_from_palm_oil_tags': 'object'}, \\\n",
    "#                   sep='\\t')\n",
    "off.shape"
   ]
  },
  {
   "cell_type": "raw",
   "metadata": {},
   "source": [
    "data_path = 'D:\\DATA\\OurFoods'"
   ]
  },
  {
   "cell_type": "code",
   "execution_count": 3,
   "metadata": {},
   "outputs": [],
   "source": [
    "# sample on the all attributes\n",
    "off[off.product_name.notna()]\\\n",
    "    .sample(n=3000, random_state=42)\\\n",
    "    .sort_values('code')\\\n",
    "    .reset_index(drop=True)\\\n",
    "    .to_csv(os.path.join(data_path, 'sample_off_all.csv'), index=False)"
   ]
  },
  {
   "cell_type": "code",
   "execution_count": 4,
   "metadata": {},
   "outputs": [],
   "source": [
    "# sample on the major attributes\n",
    "off[off.product_name.notna()]\\\n",
    "    .loc[: ,['product_name',  'main_category_en', 'energy_100g', \n",
    "     'fat_100g', 'fiber_100g', 'carbohydrates_100g', \n",
    "     'proteins_100g', 'salt_100g', 'sodium_100g', 'sugars_100g']]\\\n",
    "    .sample(n=3000, random_state=42)\\\n",
    "    .sort_values('product_name')\\\n",
    "    .reset_index(drop=True)\\\n",
    "    .to_csv(os.path.join(data_path, 'sample_off_maj.csv'), index=False)"
   ]
  },
  {
   "cell_type": "code",
   "execution_count": 5,
   "metadata": {},
   "outputs": [
    {
     "data": {
      "text/html": [
       "<div>\n",
       "<style scoped>\n",
       "    .dataframe tbody tr th:only-of-type {\n",
       "        vertical-align: middle;\n",
       "    }\n",
       "\n",
       "    .dataframe tbody tr th {\n",
       "        vertical-align: top;\n",
       "    }\n",
       "\n",
       "    .dataframe thead th {\n",
       "        text-align: right;\n",
       "    }\n",
       "</style>\n",
       "<table border=\"1\" class=\"dataframe\">\n",
       "  <thead>\n",
       "    <tr style=\"text-align: right;\">\n",
       "      <th></th>\n",
       "      <th>product_name</th>\n",
       "      <th>main_category_en</th>\n",
       "      <th>energy_100g</th>\n",
       "      <th>fat_100g</th>\n",
       "      <th>fiber_100g</th>\n",
       "      <th>carbohydrates_100g</th>\n",
       "      <th>proteins_100g</th>\n",
       "      <th>salt_100g</th>\n",
       "      <th>sodium_100g</th>\n",
       "      <th>sugars_100g</th>\n",
       "    </tr>\n",
       "  </thead>\n",
       "  <tbody>\n",
       "    <tr>\n",
       "      <th>0</th>\n",
       "      <td>.com Premium</td>\n",
       "      <td>Beverages</td>\n",
       "      <td>NaN</td>\n",
       "      <td>NaN</td>\n",
       "      <td>NaN</td>\n",
       "      <td>NaN</td>\n",
       "      <td>NaN</td>\n",
       "      <td>NaN</td>\n",
       "      <td>NaN</td>\n",
       "      <td>NaN</td>\n",
       "    </tr>\n",
       "    <tr>\n",
       "      <th>1</th>\n",
       "      <td>0% sin lactosa</td>\n",
       "      <td>Dairies</td>\n",
       "      <td>155.0</td>\n",
       "      <td>0.1</td>\n",
       "      <td>NaN</td>\n",
       "      <td>4.9</td>\n",
       "      <td>4.1</td>\n",
       "      <td>0.10000</td>\n",
       "      <td>0.040000</td>\n",
       "      <td>4.9</td>\n",
       "    </tr>\n",
       "    <tr>\n",
       "      <th>2</th>\n",
       "      <td>10 burgers</td>\n",
       "      <td>NaN</td>\n",
       "      <td>866.0</td>\n",
       "      <td>15.0</td>\n",
       "      <td>NaN</td>\n",
       "      <td>4.0</td>\n",
       "      <td>13.5</td>\n",
       "      <td>1.30000</td>\n",
       "      <td>0.520000</td>\n",
       "      <td>4.0</td>\n",
       "    </tr>\n",
       "    <tr>\n",
       "      <th>3</th>\n",
       "      <td>10 croissants + 10 pains choco</td>\n",
       "      <td>NaN</td>\n",
       "      <td>1481.0</td>\n",
       "      <td>20.0</td>\n",
       "      <td>NaN</td>\n",
       "      <td>36.0</td>\n",
       "      <td>6.0</td>\n",
       "      <td>NaN</td>\n",
       "      <td>NaN</td>\n",
       "      <td>8.0</td>\n",
       "    </tr>\n",
       "    <tr>\n",
       "      <th>4</th>\n",
       "      <td>100 % Mie Complet Sans Croûte - Offre économique</td>\n",
       "      <td>Plant-based foods and beverages</td>\n",
       "      <td>1044.0</td>\n",
       "      <td>4.7</td>\n",
       "      <td>4.8</td>\n",
       "      <td>41.2</td>\n",
       "      <td>7.7</td>\n",
       "      <td>1.15062</td>\n",
       "      <td>0.460248</td>\n",
       "      <td>4.3</td>\n",
       "    </tr>\n",
       "  </tbody>\n",
       "</table>\n",
       "</div>"
      ],
      "text/plain": [
       "                                        product_name  \\\n",
       "0                                       .com Premium   \n",
       "1                                     0% sin lactosa   \n",
       "2                                         10 burgers   \n",
       "3                     10 croissants + 10 pains choco   \n",
       "4  100 % Mie Complet Sans Croûte - Offre économique    \n",
       "\n",
       "                  main_category_en  energy_100g  fat_100g  fiber_100g  \\\n",
       "0                        Beverages          NaN       NaN         NaN   \n",
       "1                          Dairies        155.0       0.1         NaN   \n",
       "2                              NaN        866.0      15.0         NaN   \n",
       "3                              NaN       1481.0      20.0         NaN   \n",
       "4  Plant-based foods and beverages       1044.0       4.7         4.8   \n",
       "\n",
       "   carbohydrates_100g  proteins_100g  salt_100g  sodium_100g  sugars_100g  \n",
       "0                 NaN            NaN        NaN          NaN          NaN  \n",
       "1                 4.9            4.1    0.10000     0.040000          4.9  \n",
       "2                 4.0           13.5    1.30000     0.520000          4.0  \n",
       "3                36.0            6.0        NaN          NaN          8.0  \n",
       "4                41.2            7.7    1.15062     0.460248          4.3  "
      ]
     },
     "execution_count": 5,
     "metadata": {},
     "output_type": "execute_result"
    }
   ],
   "source": [
    "data_path = 'D:\\DATA\\OurFoods'\n",
    "df = pd.read_csv(os.path.join(data_path, 'sample_off_maj.csv'))\n",
    "df.head()"
   ]
  },
  {
   "cell_type": "code",
   "execution_count": null,
   "metadata": {},
   "outputs": [],
   "source": []
  },
  {
   "cell_type": "markdown",
   "metadata": {},
   "source": [
    "+ dropped columns\n",
    "  + `code`, i.e. barcode of the product\n",
    "  + `url`, i.e. url to the product on website\n",
    "  + `creator`, i.e. contributor to upload the file\n",
    "  + `created_t`, `created_datetime`, `last_modified_t`, `last_modified_datetime`\n",
    "  + `generic_name`, since it's almost identical to `product_name`\n",
    "+ filtered columns\n",
    "  + columns of `url`, total = 7\n",
    "    + regex matching with negative look-arounds `r'^((?!url).)*$'`\n",
    "    + [Regular expression to match a line that doesn't contain a word](https://stackoverflow.com/questions/406230/regular-expression-to-match-a-line-that-doesnt-contain-a-word)\n",
    "    + e.g. 'image_url', 'image_small_url', 'image_ingredients_url'"
   ]
  },
  {
   "cell_type": "code",
   "execution_count": 6,
   "metadata": {},
   "outputs": [],
   "source": [
    "# drop columns not needed for cross-analysis with reviews\n",
    "dropped_cols = ['creator', 'created_t', 'created_datetime', \\\n",
    "                 'last_modified_t', 'last_modified_datetime', \\\n",
    "                 'generic_name', 'packaging', 'packaging_tags', \\\n",
    "                 'origins', 'origins_tags', \\\n",
    "                 'manufacturing_places', 'manufacturing_places_tags', \\\n",
    "                 'labels', 'emb_codes', 'emb_codes_tags', \\\n",
    "                 'first_packaging_code_geo', 'cities', 'cities_tags', \\\n",
    "                 'purchase_places', 'stores', 'countries', \\\n",
    "                 'ingredients_text', 'traces']\n",
    "# 'categories',"
   ]
  },
  {
   "cell_type": "code",
   "execution_count": 7,
   "metadata": {},
   "outputs": [
    {
     "data": {
      "text/plain": [
       "(949695, 145)"
      ]
     },
     "execution_count": 7,
     "metadata": {},
     "output_type": "execute_result"
    }
   ],
   "source": [
    "# drop columns not used for product review\n",
    "off.drop(dropped_cols, axis=1, inplace=True)\n",
    "# filter out url columns (columns names containing 'url')\n",
    "off = off.filter(regex=r'^((?!url).)*$', axis=1)\n",
    "off.shape"
   ]
  },
  {
   "cell_type": "code",
   "execution_count": 8,
   "metadata": {},
   "outputs": [
    {
     "data": {
      "text/plain": [
       "(872540, 145)"
      ]
     },
     "execution_count": 8,
     "metadata": {},
     "output_type": "execute_result"
    }
   ],
   "source": [
    "# drop the rows without Product Name\n",
    "off = off[off.product_name.notna()].reset_index(drop=True)\n",
    "off.shape"
   ]
  },
  {
   "cell_type": "code",
   "execution_count": null,
   "metadata": {},
   "outputs": [],
   "source": []
  },
  {
   "cell_type": "markdown",
   "metadata": {},
   "source": [
    "### Open Food Facts, NA Count"
   ]
  },
  {
   "cell_type": "code",
   "execution_count": 9,
   "metadata": {},
   "outputs": [],
   "source": [
    "def count_na_pct(column):\n",
    "    \"\"\"\n",
    "    count NA percent in a column, of Open Foods Fact dataset\n",
    "    \"\"\"\n",
    "    return off[column].isna().sum() / off.shape[0] * 100 "
   ]
  },
  {
   "cell_type": "code",
   "execution_count": 10,
   "metadata": {},
   "outputs": [],
   "source": [
    "na = {}\n",
    "for col in off.columns:\n",
    "    na[col] = count_na_pct(col)"
   ]
  },
  {
   "cell_type": "code",
   "execution_count": 11,
   "metadata": {},
   "outputs": [
    {
     "data": {
      "text/plain": [
       "[('code', 0.0),\n",
       " ('product_name', 0.0),\n",
       " ('pnns_groups_2', 0.0),\n",
       " ('states', 0.0),\n",
       " ('states_tags', 0.0),\n",
       " ('states_en', 0.0),\n",
       " ('countries_tags', 0.11243037568478237),\n",
       " ('countries_en', 0.11243037568478237),\n",
       " ('pnns_groups_1', 1.0553097852247462),\n",
       " ('energy_100g', 15.387604006693104)]"
      ]
     },
     "execution_count": 11,
     "metadata": {},
     "output_type": "execute_result"
    }
   ],
   "source": [
    "# show top 10\n",
    "sorted(list(na.items()), key=lambda x:x[1])[:10]\n",
    "# only some attributes having no NA rows"
   ]
  },
  {
   "cell_type": "code",
   "execution_count": 12,
   "metadata": {},
   "outputs": [
    {
     "data": {
      "text/plain": [
       "61.30377976940885"
      ]
     },
     "execution_count": 12,
     "metadata": {},
     "output_type": "execute_result"
    }
   ],
   "source": [
    "count_na_pct('categories')"
   ]
  },
  {
   "cell_type": "code",
   "execution_count": null,
   "metadata": {},
   "outputs": [],
   "source": []
  },
  {
   "cell_type": "code",
   "execution_count": null,
   "metadata": {},
   "outputs": [],
   "source": []
  },
  {
   "cell_type": "markdown",
   "metadata": {},
   "source": [
    "### Open Food Facts subset"
   ]
  },
  {
   "cell_type": "markdown",
   "metadata": {},
   "source": [
    "#### Take product of \"Jif\" for example"
   ]
  },
  {
   "cell_type": "code",
   "execution_count": 13,
   "metadata": {},
   "outputs": [
    {
     "data": {
      "text/plain": [
       "69980                       Jif Crema de Cacahuate Cremosa\n",
       "69988               Jif Creme De Amdoim C / Chocolate 450G\n",
       "69989             Jif Natural Crunchy Peanut Butter Spread\n",
       "69994    Jif Cookies N Cream and Hazelnut Pate à Tartinner\n",
       "69997                             Jif Peanut Butter Creamy\n",
       "Name: product_name, dtype: object"
      ]
     },
     "execution_count": 13,
     "metadata": {},
     "output_type": "execute_result"
    }
   ],
   "source": [
    "# product of Jif\n",
    "jif = off[off.product_name.str.match(r'^(JIF|Jif|jif)\\s.*')]\n",
    "jif.product_name.head()"
   ]
  },
  {
   "cell_type": "code",
   "execution_count": 15,
   "metadata": {},
   "outputs": [
    {
     "data": {
      "text/plain": [
       "(15, 144)"
      ]
     },
     "execution_count": 15,
     "metadata": {},
     "output_type": "execute_result"
    }
   ],
   "source": [
    "jif.drop('categories', axis=1, inplace=True)\n",
    "# jif.product_name = jif.product_name.str.lower() # lowercase when extracting tokens\n",
    "jif.reset_index(drop=True, inplace=True)\n",
    "jif.shape"
   ]
  },
  {
   "cell_type": "code",
   "execution_count": null,
   "metadata": {},
   "outputs": [],
   "source": []
  },
  {
   "cell_type": "markdown",
   "metadata": {},
   "source": [
    "#### Take product of \"Cheetos\" for example"
   ]
  },
  {
   "cell_type": "code",
   "execution_count": 16,
   "metadata": {},
   "outputs": [
    {
     "data": {
      "text/plain": [
       "(78, 144)"
      ]
     },
     "execution_count": 16,
     "metadata": {},
     "output_type": "execute_result"
    }
   ],
   "source": [
    "# Product of Cheetos\n",
    "cheetos = off[off.product_name.str.match(r'^(Cheetos|CHEETOS|cheetos)\\s.*')]\n",
    "cheetos.drop('categories', axis=1, inplace=True)\n",
    "\n",
    "# cheetos.product_name = cheetos.product_name.str.lower() \n",
    "cheetos.reset_index(drop=True, inplace=True)\n",
    "cheetos.shape"
   ]
  },
  {
   "cell_type": "code",
   "execution_count": 18,
   "metadata": {},
   "outputs": [
    {
     "data": {
      "text/plain": [
       "array(['Cheetos Puffs', 'Cheetos Cheese Flavored Snacks Puffs',\n",
       "       'Cheetos crunchy', 'Cheetos Crunchy Fromage',\n",
       "       'Cheetos Puffs Large', \"Cheetos puffs - Flamin' Hot\",\n",
       "       \"Cheetos Cheese Flavored Snacks Crunchy, Flamin' Hot\",\n",
       "       'Cheetos Crunchy', 'Cheetos Crunchy Jalapeno',\n",
       "       \"Cheetos Crunchy Flamin'hot\", 'Cheetos puff',\n",
       "       'Cheetos Crunchy Dangerously Cheese',\n",
       "       'Cheetos Crunchy Party Size!', \"Cheetos Crunchy xxtra Flamin' Hot\",\n",
       "       \"Cheetos Crunchy Flamin' Hot Limn\",\n",
       "       'Cheetos Cheddar Jalapeno Crunchy', \"Cheetos Crunchy Flamin' Hot\",\n",
       "       'Cheetos Puffs Chese Flavor', \"CHEETOS flamin' hot puffs\",\n",
       "       'Cheetos Snowflakes', 'Cheetos puffs', 'Cheetos puffs soufflés',\n",
       "       'Cheetos jalapeno', 'Cheetos Crunchy Croquant',\n",
       "       'Cheetos Jagung Bakar', 'Cheetos Crunch',\n",
       "       'cheetos horneados crunchy sabor a queso', 'Cheetos Sticks',\n",
       "       'Cheetos Goût Cacahuète', 'Cheetos Goût Fromage', 'Cheetos 21',\n",
       "       'Cheetos Poulet Epicé', 'Cheetos lotto', 'Cheetos BITS',\n",
       "       'Cheetos Pizza Flavour Corn Snacks 85 G', 'Cheetos paprika',\n",
       "       'Cheetos pizza', 'Cheetos crunchis sweet chili flavor',\n",
       "       'Cheetos goût fromage', \"Cheetos Flamin'hot\",\n",
       "       'Cheetos xtra Flamin Hot', 'Cheetos torciditos', 'Cheetos Bolitas',\n",
       "       'Cheetos Nacho', 'Cheetos Colmillos', 'Cheetos Horneados',\n",
       "       'Cheetos onda sabor requeijão', 'Cheetos fromage',\n",
       "       'Cheetos gustosined', 'Cheetos Pelotazos 32 GRS.',\n",
       "       'Cheetos Mega 4 Mix', 'Cheetos gustosines',\n",
       "       'Cheetos Sticks Palitos', 'Cheetos pelotasos', 'Cheetos sticks',\n",
       "       'Cheetos Rolitos', 'Cheetos Pelotazos Bolsa 40 g', 'Cheetos Colla',\n",
       "       'Cheetos Pandilla', 'Cheetos Chipito Kaas',\n",
       "       'Cheetos Chipito Cheese 24X27G',\n",
       "       'Cheetos Ringlings Oignons Et fine herbes', 'Cheetos goal',\n",
       "       'Cheetos Big Chipito saveur fromage', 'Cheetos Cheese',\n",
       "       'Cheetos Cheese & Bacon Balls'], dtype=object)"
      ]
     },
     "execution_count": 18,
     "metadata": {},
     "output_type": "execute_result"
    }
   ],
   "source": [
    "cheetos.product_name.unique()"
   ]
  },
  {
   "cell_type": "code",
   "execution_count": null,
   "metadata": {},
   "outputs": [],
   "source": []
  },
  {
   "cell_type": "code",
   "execution_count": null,
   "metadata": {},
   "outputs": [],
   "source": []
  },
  {
   "cell_type": "code",
   "execution_count": null,
   "metadata": {},
   "outputs": [],
   "source": []
  },
  {
   "cell_type": "code",
   "execution_count": null,
   "metadata": {},
   "outputs": [],
   "source": []
  },
  {
   "cell_type": "code",
   "execution_count": null,
   "metadata": {},
   "outputs": [],
   "source": []
  },
  {
   "cell_type": "code",
   "execution_count": null,
   "metadata": {},
   "outputs": [],
   "source": []
  },
  {
   "cell_type": "markdown",
   "metadata": {},
   "source": [
    "## Amazon Reviews: Grocery dataset\n",
    "+ https://registry.opendata.aws/amazon-reviews/\n",
    "+ https://s3.amazonaws.com/amazon-reviews-pds/readme.html\n",
    "+ http://jmcauley.ucsd.edu/data/amazon/"
   ]
  },
  {
   "cell_type": "code",
   "execution_count": 26,
   "metadata": {},
   "outputs": [],
   "source": [
    "data_path = 'D:\\DATA\\practice-dataset\\gzipped'\n",
    "amz = pd.read_csv(os.path.join(data_path, 'amazon_reviews_us_Grocery_v1_00.tsv.gz'), \\\n",
    "                  dtype={'customer_id': 'object', 'product_parent': 'object', \\\n",
    "                         'star_rating': 'object', \n",
    "                         'helpful_votes': pd.Int64Dtype(), 'total_votes': pd.Int64Dtype()}, \\\n",
    "                  compression='gzip', sep='\\t', \\\n",
    "                  error_bad_lines=False, warn_bad_lines=False)\n",
    "# IF using kaggle server\n",
    "# data_path = '/kaggle/input/amazon_reviews_us_grocery_v1_00.tsv'\n",
    "# amz = pd.read_csv(os.path.join(data_path, 'amazon_reviews_us_Grocery_v1_00.tsv'), \\\n",
    "#                   dtype={'customer_id': 'object', 'product_parent': 'object', \\\n",
    "#                          'star_rating': 'object', \n",
    "#                          'helpful_votes': 'object', 'total_votes': 'object'}, \\\n",
    "#                   sep='\\t', \\\n",
    "#                   error_bad_lines=False, warn_bad_lines=False)\n",
    "\n",
    "# pd.Int64Dtype() allows NaN"
   ]
  },
  {
   "cell_type": "raw",
   "metadata": {},
   "source": [
    "data_path = 'D:\\DATA\\OurFoods'"
   ]
  },
  {
   "cell_type": "raw",
   "metadata": {},
   "source": [
    "# sample on the all attributes\n",
    "amz.sample(n=3000, random_state=42)\\\n",
    "    .sort_values('review_date')\\\n",
    "    .reset_index(drop=True)\\\n",
    "    .to_csv(os.path.join(data_path, 'sample_amz_all.csv'), index=False)"
   ]
  },
  {
   "cell_type": "raw",
   "metadata": {},
   "source": [
    "# sample on the major attributes\n",
    "amz[['customer_id',  'review_id', 'product_title', \n",
    "     'star_rating', 'review_headline', 'review_body', \n",
    "     'review_date']]\\\n",
    "    .sample(n=3000, random_state=42)\\\n",
    "    .sort_values('review_date')\\\n",
    "    .reset_index(drop=True)\\\n",
    "    .to_csv(os.path.join(data_path, 'sample_amz_maj.csv'), index=False)"
   ]
  },
  {
   "cell_type": "code",
   "execution_count": null,
   "metadata": {},
   "outputs": [],
   "source": []
  },
  {
   "cell_type": "markdown",
   "metadata": {},
   "source": [
    "+ dropped: \n",
    "  + `marketplace`: all data from US market\n",
    "  + `product_category`: all data of 'Grocery' category\n",
    "  + `product_id`: overlapped with `product_parent` on some, \n",
    "    + but `product_parent` is more accurate for grouping same product\n",
    "    + but still cannot differentiate between sizes"
   ]
  },
  {
   "cell_type": "code",
   "execution_count": 14,
   "metadata": {},
   "outputs": [
    {
     "data": {
      "text/plain": [
       "(2393378, 12)"
      ]
     },
     "execution_count": 14,
     "metadata": {},
     "output_type": "execute_result"
    }
   ],
   "source": [
    "amz.drop(['marketplace', 'product_category', 'product_id'], axis=1, inplace=True)\n",
    "# row 1841896 contains date as star_rating\n",
    "amz.drop(1841896, axis=0, inplace=True)\n",
    "amz.shape"
   ]
  },
  {
   "cell_type": "code",
   "execution_count": null,
   "metadata": {},
   "outputs": [],
   "source": []
  },
  {
   "cell_type": "code",
   "execution_count": null,
   "metadata": {},
   "outputs": [],
   "source": []
  },
  {
   "cell_type": "markdown",
   "metadata": {},
   "source": [
    "### Amazon Review subset"
   ]
  },
  {
   "cell_type": "markdown",
   "metadata": {},
   "source": [
    "#### Take product of \"jif\" for example"
   ]
  },
  {
   "cell_type": "code",
   "execution_count": 15,
   "metadata": {},
   "outputs": [
    {
     "data": {
      "text/plain": [
       "(1413, 12)"
      ]
     },
     "execution_count": 15,
     "metadata": {},
     "output_type": "execute_result"
    }
   ],
   "source": [
    "# Jif product reviews\n",
    "jif_rev = amz[amz.product_title.str.match(r'^(JIF|Jif|jif)\\s.*')]\n",
    "# jif_rev.product_title = jif_rev.product_title.str.lower()\n",
    "jif_rev.reset_index(drop=True, inplace=True)\n",
    "jif_rev.shape"
   ]
  },
  {
   "cell_type": "code",
   "execution_count": 16,
   "metadata": {},
   "outputs": [
    {
     "data": {
      "text/plain": [
       "array(['Jif Chocolate Nut Butter Almond Granola Bars, 5 Count Pack',\n",
       "       'Jif Creamy Peanut Butter Granola Bar, 5 Ct',\n",
       "       'Jif Creamy Peanut Butter Twin Pack, 80 Ounce',\n",
       "       'Jif Whips Whipped Peanut Butter & Salty Caramel',\n",
       "       'Jif Cashew Butter, Creamy, 12 Ounce',\n",
       "       'Jif To Go Dippers with Pretzels, 3 Count',\n",
       "       'Jif Peanut Powder, 6.5 Ounce', 'Jif Creamy Peanut Butter',\n",
       "       'Jif Cashew Butter, Crunchy, 12 Ounce', 'Jif Peanut Butter'],\n",
       "      dtype=object)"
      ]
     },
     "execution_count": 16,
     "metadata": {},
     "output_type": "execute_result"
    }
   ],
   "source": [
    "jif_rev.product_title.unique()[:10]"
   ]
  },
  {
   "cell_type": "code",
   "execution_count": null,
   "metadata": {},
   "outputs": [],
   "source": []
  },
  {
   "cell_type": "markdown",
   "metadata": {},
   "source": [
    "#### Take product of \"cheetos\" for example"
   ]
  },
  {
   "cell_type": "code",
   "execution_count": 17,
   "metadata": {},
   "outputs": [
    {
     "data": {
      "text/plain": [
       "(496, 12)"
      ]
     },
     "execution_count": 17,
     "metadata": {},
     "output_type": "execute_result"
    }
   ],
   "source": [
    "# cheetos\n",
    "che_rev = amz[amz.product_title.str.match(r'^(Cheetos|cheetos|CHEETOS)\\s.*')]\n",
    "# che_rev.product_title = che_rev.product_title.str.lower()\n",
    "che_rev.reset_index(drop=True, inplace=True)\n",
    "che_rev.shape"
   ]
  },
  {
   "cell_type": "code",
   "execution_count": 18,
   "metadata": {},
   "outputs": [
    {
     "data": {
      "text/plain": [
       "array(['Cheetos Crunchy - 50/1 oz. bags',\n",
       "       'Cheetos Flavored Snacks, Crunchy Cheese, 1.13 Ounce (Pack of 12)',\n",
       "       'Cheetos Crunchy Cheddar Jalapeno Cheese Flavored Snacks',\n",
       "       'Cheetos Crunchy Cheese Flavored Snacks',\n",
       "       \"Cheetos Flamin' Hot and Doritos Dinamita Chile Limon 8.0 Oz [3 Pk]\",\n",
       "       \"Cheetos Flamin' Hot - 50/1 oz\",\n",
       "       'Cheetos Sweetos Cinnamon Sugar Puffs Flavored Snacks, 7 oz (Set of 2)',\n",
       "       \"Cheetos Cheese Flavored Snacks, Crunchy Flamin' Hot, 2.38 Ounce (Pack of 12)\",\n",
       "       'Cheetos Cheese Flavored Snacks, Jumbo Puffs, 9.5 Ounce (Pack of 4)',\n",
       "       'Cheetos Natural White Cheddar Puffs Cheese Flavored Snacks, 8oz Bags (Pack of 12)'],\n",
       "      dtype=object)"
      ]
     },
     "execution_count": 18,
     "metadata": {},
     "output_type": "execute_result"
    }
   ],
   "source": [
    "che_rev.product_title.unique()[:10]"
   ]
  },
  {
   "cell_type": "code",
   "execution_count": null,
   "metadata": {},
   "outputs": [],
   "source": []
  },
  {
   "cell_type": "code",
   "execution_count": null,
   "metadata": {},
   "outputs": [],
   "source": []
  },
  {
   "cell_type": "code",
   "execution_count": null,
   "metadata": {},
   "outputs": [],
   "source": []
  },
  {
   "cell_type": "code",
   "execution_count": null,
   "metadata": {},
   "outputs": [],
   "source": []
  }
 ],
 "metadata": {
  "kernelspec": {
   "display_name": "Python (sklearn)",
   "language": "python",
   "name": "sklearn"
  },
  "language_info": {
   "codemirror_mode": {
    "name": "ipython",
    "version": 3
   },
   "file_extension": ".py",
   "mimetype": "text/x-python",
   "name": "python",
   "nbconvert_exporter": "python",
   "pygments_lexer": "ipython3",
   "version": "3.7.3"
  }
 },
 "nbformat": 4,
 "nbformat_minor": 4
}
