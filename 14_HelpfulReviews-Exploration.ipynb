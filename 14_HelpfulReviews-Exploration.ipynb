{
 "cells": [
  {
   "cell_type": "markdown",
   "metadata": {},
   "source": [
    "# Exploratory Analysis: Helpful Reviews"
   ]
  },
  {
   "cell_type": "markdown",
   "metadata": {},
   "source": [
    "1. Helpful vs. Not Helpful Reviews\n",
    "2. Sentence Generation\n",
    "3. \n",
    "    \n",
    "TODO:\n",
    "+ Can review headline indicate helpful rating?\n",
    "  + using the few words in headline, indicate a good rating?\n",
    "+ Helpful reviews length\n",
    "+ Helpeful votes with Nutrients/Categories?\n",
    "  + maybe some products require more helpful votes?\n",
    "+ model helpful reviews by review words...etc\n",
    "  + since helpful reviews are likel to influence other users\n",
    "+ helpful reivews\n",
    "  + would some categories have more helpful reviews?\n",
    "  + would some nutrients product have more helpful reviews?"
   ]
  },
  {
   "cell_type": "code",
   "execution_count": 1,
   "metadata": {},
   "outputs": [],
   "source": [
    "import os\n",
    "import pandas as pd\n",
    "import numpy as np\n",
    "import matplotlib.pyplot as plt\n",
    "import seaborn as sns\n",
    "\n",
    "sns.set()"
   ]
  },
  {
   "cell_type": "code",
   "execution_count": 2,
   "metadata": {},
   "outputs": [
    {
     "data": {
      "text/plain": [
       "True"
      ]
     },
     "execution_count": 2,
     "metadata": {},
     "output_type": "execute_result"
    }
   ],
   "source": [
    "import os\n",
    "from sqlalchemy import create_engine\n",
    "\n",
    "from dotenv import load_dotenv # env variables\n",
    "load_dotenv(verbose=True)"
   ]
  },
  {
   "cell_type": "code",
   "execution_count": 3,
   "metadata": {},
   "outputs": [],
   "source": [
    "SQLALCHEMY_DATABASE_URI = os.getenv('DATABASE_URL')\n",
    "engine = create_engine(SQLALCHEMY_DATABASE_URI)"
   ]
  },
  {
   "cell_type": "code",
   "execution_count": null,
   "metadata": {},
   "outputs": [],
   "source": []
  },
  {
   "cell_type": "markdown",
   "metadata": {},
   "source": [
    "use merged data from file\n",
    "```python\n",
    "data_path = 'D:\\DATA\\OurFoods'\n",
    "df = pd.read_csv(os.path.join(data_path, 'merged_amz-off_3.csv.gz'),\\\n",
    "                 dtype={'customer_id': 'object', 'product_parent': 'object', \\\n",
    "                        'star_rating': pd.Int64Dtype(), 'helpful_votes': pd.Int64Dtype(), \n",
    "                        'total_votes': pd.Int64Dtype(), \\\n",
    "                        'code': 'object'},\n",
    "                 compression='gzip')\n",
    "# convert reivew_date to datetime object\n",
    "df.review_date = pd.to_datetime(df.review_date)\n",
    "df.shape\n",
    "```"
   ]
  },
  {
   "cell_type": "code",
   "execution_count": null,
   "metadata": {},
   "outputs": [],
   "source": []
  },
  {
   "cell_type": "markdown",
   "metadata": {},
   "source": [
    "### 1. Helpful vs. Not Helpful\n",
    "+ using threshold of 0.5 to evalutate helpful or not"
   ]
  },
  {
   "cell_type": "code",
   "execution_count": 4,
   "metadata": {},
   "outputs": [
    {
     "data": {
      "text/plain": [
       "(44363, 6)"
      ]
     },
     "execution_count": 4,
     "metadata": {},
     "output_type": "execute_result"
    }
   ],
   "source": [
    "sql = \\\n",
    "\"\"\"\n",
    "SELECT \n",
    "    review_id, \n",
    "    helpful_votes, total_votes,\n",
    "    review_headline, review_body\n",
    "FROM \n",
    "    food_reviews\n",
    "WHERE \n",
    "    energy_100g IS NOT NULL\n",
    "    AND energy_100g < 3000\n",
    "    AND review_date >= '2010-01-01'\n",
    "    AND verified_purchase LIKE 'Y'\n",
    "    AND total_votes > 0\n",
    "\"\"\"\n",
    "# assume helpful_votes / total_votes > .5 is a helpful review\n",
    "df = pd.read_sql(sql, con=engine)\\\n",
    "    .assign(helpful=lambda df: df.helpful_votes/df.total_votes >= .5)\n",
    "df.shape"
   ]
  },
  {
   "cell_type": "code",
   "execution_count": 18,
   "metadata": {},
   "outputs": [
    {
     "data": {
      "text/plain": [
       "count      173.000000\n",
       "mean       256.433526\n",
       "std       1722.682708\n",
       "min          1.000000\n",
       "25%          1.000000\n",
       "50%          2.000000\n",
       "75%         11.000000\n",
       "max      20236.000000\n",
       "Name: total_votes, dtype: float64"
      ]
     },
     "execution_count": 18,
     "metadata": {},
     "output_type": "execute_result"
    }
   ],
   "source": [
    "df.total_votes.value_counts().describe()"
   ]
  },
  {
   "cell_type": "code",
   "execution_count": null,
   "metadata": {},
   "outputs": [],
   "source": []
  },
  {
   "cell_type": "code",
   "execution_count": null,
   "metadata": {},
   "outputs": [],
   "source": []
  },
  {
   "cell_type": "markdown",
   "metadata": {},
   "source": [
    "### 2. Helpful vs. Not Helpful: Sentence Generation\n",
    "+ What are helpful and non-helpful review saying?\n",
    "+ Using Trigram model for sentence generations\n",
    "+ Choose different start word to generate"
   ]
  },
  {
   "cell_type": "code",
   "execution_count": 19,
   "metadata": {},
   "outputs": [],
   "source": [
    "import re\n",
    "import json\n",
    "import operator\n",
    "# import pprint\n",
    "from nltk.util import ngrams\n",
    "from collections import Counter"
   ]
  },
  {
   "cell_type": "code",
   "execution_count": 20,
   "metadata": {},
   "outputs": [
    {
     "data": {
      "text/plain": [
       "(44363, 6)"
      ]
     },
     "execution_count": 20,
     "metadata": {},
     "output_type": "execute_result"
    }
   ],
   "source": [
    "sql = \\\n",
    "\"\"\"\n",
    "SELECT \n",
    "    review_id, helpful_votes, total_votes,\n",
    "    review_headline, review_body\n",
    "FROM \n",
    "    food_reviews\n",
    "WHERE \n",
    "    energy_100g IS NOT NULL\n",
    "    AND energy_100g < 3000\n",
    "    AND review_date >= '2010-01-01'\n",
    "    AND verified_purchase LIKE 'Y'\n",
    "    AND total_votes > 0\n",
    "\"\"\"\n",
    "# assume helpful_votes / total_votes > .5 is a helpful review\n",
    "df = pd.read_sql(sql, con=engine)\\\n",
    "    .assign(helpful=lambda df: df.helpful_votes/df.total_votes >= .5)\n",
    "df.shape"
   ]
  },
  {
   "cell_type": "code",
   "execution_count": 21,
   "metadata": {},
   "outputs": [],
   "source": [
    "# given a review string, return list of list of tokens\n",
    "def reviewTokenize(review):\n",
    "    # remove line breaker, non-word, except space and period,\n",
    "    review =  re.sub(r'<br />|[^A-Za-z. ]', '', review.lower())\n",
    "    # remove space at setence end\n",
    "    review =  re.sub(r'\\s$', '', review)\n",
    "    # reduce multiple space to single\n",
    "    review = re.sub(' +', ' ', review) \n",
    "    # split by end of sentence \n",
    "    sents = review.split('.')\n",
    "    # split into tokens, ignore empty string\n",
    "    return [[token for token in sent.split(' ') if token != ''] \\\n",
    "            for sent in sents if sent != '' ] "
   ]
  },
  {
   "cell_type": "code",
   "execution_count": 22,
   "metadata": {},
   "outputs": [],
   "source": [
    "# using dict, then convert to Counter\n",
    "def build_trigrams(review_bodys):\n",
    "    model = {}\n",
    "    for review in review_bodys:\n",
    "        for sent in reviewTokenize(review):\n",
    "            trigrams = ngrams(sent, 3, pad_left=True, pad_right=True, \\\n",
    "                             left_pad_symbol='<s>', right_pad_symbol='</s>')\n",
    "            for trigram in trigrams:\n",
    "                if model.get(trigram) is not None:\n",
    "                    model[trigram] += 1\n",
    "                else:\n",
    "                    model[trigram] = 1\n",
    "    return model"
   ]
  },
  {
   "cell_type": "code",
   "execution_count": 23,
   "metadata": {},
   "outputs": [],
   "source": [
    "# turn the result into dict \n",
    "def trigram_to_dict(trigrams):\n",
    "    d = {}\n",
    "    for words, p in trigrams: \n",
    "        w1, w2, w3 = words\n",
    "        if d.get(w1) is not None:\n",
    "            if d[w1].get(w2) is not None:\n",
    "                d[w1][w2][w3] = p\n",
    "            else:\n",
    "                d[w1][w2] = {w3: p}\n",
    "        else:\n",
    "            d[w1] = {w2: {w3: p}}\n",
    "    return d\n",
    "# pprint.pprint(d)"
   ]
  },
  {
   "cell_type": "code",
   "execution_count": null,
   "metadata": {},
   "outputs": [],
   "source": []
  },
  {
   "cell_type": "markdown",
   "metadata": {},
   "source": [
    "### Helpful Reviews"
   ]
  },
  {
   "cell_type": "code",
   "execution_count": 30,
   "metadata": {},
   "outputs": [],
   "source": [
    "modelHelpful = build_trigrams(df[df.helpful == True].review_body)\n",
    "freqHelpful = [(k, v / len(modelHelpful) * 100.0) for k, v in modelHelpful.items()]\n",
    "helpful = trigram_to_dict(freqHelpful)"
   ]
  },
  {
   "cell_type": "code",
   "execution_count": 31,
   "metadata": {},
   "outputs": [
    {
     "data": {
      "text/plain": [
       "'<s> <s> i have been using this product </s> </s>'"
      ]
     },
     "execution_count": 31,
     "metadata": {},
     "output_type": "execute_result"
    }
   ],
   "source": [
    "textLen = 20\n",
    "sentence = ['<s>', '<s>']\n",
    "while len(sentence) < textLen:\n",
    "    w1, w2 = sentence[-2:]\n",
    "    if (w1 == '</s>') & (w2 == '</s>'): \n",
    "        break\n",
    "    next_word = max(helpful[w1][w2].items(), key=operator.itemgetter(1))[0]\n",
    "    sentence.append(next_word)\n",
    "' '.join(sentence)"
   ]
  },
  {
   "cell_type": "code",
   "execution_count": null,
   "metadata": {},
   "outputs": [],
   "source": []
  },
  {
   "cell_type": "markdown",
   "metadata": {},
   "source": [
    "### Non-helpful Reviews"
   ]
  },
  {
   "cell_type": "code",
   "execution_count": 26,
   "metadata": {},
   "outputs": [],
   "source": [
    "mdlNotHelpful = build_trigrams(df[df.helpful == False].review_body)\n",
    "freqNotHelpful = [(k, v / len(mdlNotHelpful) * 100.0) for k, v in mdlNotHelpful.items()]\n",
    "notHelpful = trigram_to_dict(freqNotHelpful)"
   ]
  },
  {
   "cell_type": "code",
   "execution_count": 27,
   "metadata": {},
   "outputs": [
    {
     "data": {
      "text/plain": [
       "'<s> <s> i have to say i am not a good price </s> </s>'"
      ]
     },
     "execution_count": 27,
     "metadata": {},
     "output_type": "execute_result"
    }
   ],
   "source": [
    "textLen = 20\n",
    "sentence = ['<s>', '<s>']\n",
    "while len(sentence) < textLen:\n",
    "    w1, w2 = sentence[-2:]\n",
    "    if (w1 == '</s>') & (w2 == '</s>'): \n",
    "        break\n",
    "    next_word = max(notHelpful[w1][w2].items(), key=operator.itemgetter(1))[0]\n",
    "    sentence.append(next_word)\n",
    "' '.join(sentence)"
   ]
  },
  {
   "cell_type": "code",
   "execution_count": null,
   "metadata": {},
   "outputs": [],
   "source": []
  },
  {
   "cell_type": "markdown",
   "metadata": {},
   "source": [
    "### Export both dict"
   ]
  },
  {
   "cell_type": "code",
   "execution_count": 28,
   "metadata": {},
   "outputs": [],
   "source": [
    "# reduce frequency dict size\n",
    "def reduce_dictSize(freqDict, size=5, startingSize=30): \n",
    "    for w1 in freqDict.keys():\n",
    "        for w2 in freqDict[w1].keys():\n",
    "            # if sentence starting tokens\n",
    "            if (w1 == '<s>') & (w2 == '<s>'): \n",
    "                tmp = dict(sorted(freqDict[w1][w2].items(), \\\n",
    "                                  key=lambda kv: kv[1], reverse=True)[:startingSize])\n",
    "            # if other tokens\n",
    "            else: \n",
    "                tmp = dict(sorted(freqDict[w1][w2].items(), \\\n",
    "                                  key=lambda kv: kv[1], reverse=True)[:size])\n",
    "            freqDict[w1][w2] = tmp\n",
    "    return freqDict"
   ]
  },
  {
   "cell_type": "code",
   "execution_count": 22,
   "metadata": {},
   "outputs": [],
   "source": [
    "d = {'helpful': reduce_dictSize(helpful, 3, 10), \\\n",
    "     'notHelpful': reduce_dictSize(notHelpful, 3, 10) }"
   ]
  },
  {
   "cell_type": "code",
   "execution_count": 23,
   "metadata": {},
   "outputs": [],
   "source": [
    "# with open('helpful_reviews.json', 'w', encoding='utf-8') as f:\n",
    "#     json.dump(d, f, ensure_ascii=False, indent=4)"
   ]
  },
  {
   "cell_type": "code",
   "execution_count": 24,
   "metadata": {},
   "outputs": [
    {
     "data": {
      "text/plain": [
       "(33921, 14493)"
      ]
     },
     "execution_count": 24,
     "metadata": {},
     "output_type": "execute_result"
    }
   ],
   "source": [
    "len(d['helpful']), len(d['notHelpful'])"
   ]
  },
  {
   "cell_type": "code",
   "execution_count": null,
   "metadata": {},
   "outputs": [],
   "source": []
  },
  {
   "cell_type": "code",
   "execution_count": 84,
   "metadata": {},
   "outputs": [],
   "source": [
    "def recursion(sent, sents, trigrams):\n",
    "    w1, w2 = sent[-2:]\n",
    "     # terminate condition: end of sentence or sentence length\n",
    "    if (w1 == '</s>') | (w2 == '</s>'): \n",
    "        sents.append(sent[1:])\n",
    "        return sents\n",
    "    if len(sent) >= 12: # limit setence length\n",
    "        return sents\n",
    "    \n",
    "    # iterate each word on subset \n",
    "    for word in trigrams[w1][w2].keys():\n",
    "        sents = recursion(sent+[word], sents, trigrams)\n",
    "    return sents"
   ]
  },
  {
   "cell_type": "code",
   "execution_count": 86,
   "metadata": {},
   "outputs": [
    {
     "data": {
      "text/plain": [
       "(1601, 1352)"
      ]
     },
     "execution_count": 86,
     "metadata": {},
     "output_type": "execute_result"
    }
   ],
   "source": [
    "# build sentences to visualization\n",
    "helpfulSents = recursion(['<s>', '<s>', 'i'], [], helpful)\n",
    "notHelpfulSents = recursion(['<s>', '<s>', 'i'], [], notHelpful)\n",
    "len(helpfulSents), len(notHelpfulSents)"
   ]
  },
  {
   "cell_type": "code",
   "execution_count": null,
   "metadata": {},
   "outputs": [],
   "source": [
    "for sent in hel"
   ]
  },
  {
   "cell_type": "code",
   "execution_count": 85,
   "metadata": {},
   "outputs": [],
   "source": [
    "v = {'helpful': helpfulSents, \n",
    "    'notHelpful': notHelpfulSents}\n",
    "with open('helpful_sents.json', 'w', encoding='utf-8') as f:\n",
    "    json.dump(v, f, ensure_ascii=False, indent=4)"
   ]
  },
  {
   "cell_type": "code",
   "execution_count": null,
   "metadata": {},
   "outputs": [],
   "source": []
  },
  {
   "cell_type": "code",
   "execution_count": null,
   "metadata": {},
   "outputs": [],
   "source": []
  }
 ],
 "metadata": {
  "kernelspec": {
   "display_name": "Python (sklearn)",
   "language": "python",
   "name": "sklearn"
  },
  "language_info": {
   "codemirror_mode": {
    "name": "ipython",
    "version": 3
   },
   "file_extension": ".py",
   "mimetype": "text/x-python",
   "name": "python",
   "nbconvert_exporter": "python",
   "pygments_lexer": "ipython3",
   "version": "3.7.3"
  }
 },
 "nbformat": 4,
 "nbformat_minor": 4
}
