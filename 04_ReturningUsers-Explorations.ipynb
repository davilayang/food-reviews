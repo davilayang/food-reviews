{
 "cells": [
  {
   "cell_type": "markdown",
   "metadata": {},
   "source": [
    "# Exploratory Analysis: Returning Users"
   ]
  },
  {
   "cell_type": "markdown",
   "metadata": {},
   "source": [
    "Returning Users:\n",
    "1. Returning Reviews Distribution\n",
    "2. Difference on Product Ratings\n",
    "3. Difference on Product Nutrients\n",
    "4. Difference on Length of Review\n",
    "5. Difference on Words Used\n",
    "6. Difference on Time of Review\n",
    "    + Using heatmap to show by 30 days or by week\n",
    "\n",
    "TODO:\n",
    "+ on helpful reviews, do returning users given different \"helpfullness\"?\n",
    "+ model returning users by past reviews\n",
    "  + i.e. given a review, is this user likely to review again?\n",
    "+ headling difference, e.g. length, word...etc \n",
    "  + is the difference correlated with anything?"
   ]
  },
  {
   "cell_type": "code",
   "execution_count": 1,
   "metadata": {},
   "outputs": [],
   "source": [
    "import pandas as pd\n",
    "import numpy as np\n",
    "import matplotlib.pyplot as plt\n",
    "import seaborn as sns\n",
    "\n",
    "sns.set()"
   ]
  },
  {
   "cell_type": "code",
   "execution_count": 2,
   "metadata": {},
   "outputs": [
    {
     "data": {
      "text/plain": [
       "True"
      ]
     },
     "execution_count": 2,
     "metadata": {},
     "output_type": "execute_result"
    }
   ],
   "source": [
    "import os\n",
    "from sqlalchemy import create_engine\n",
    "\n",
    "from dotenv import load_dotenv # env variables\n",
    "load_dotenv(verbose=True)"
   ]
  },
  {
   "cell_type": "code",
   "execution_count": 3,
   "metadata": {},
   "outputs": [],
   "source": [
    "SQLALCHEMY_DATABASE_URI = os.getenv('DATABASE_URL')\n",
    "engine = create_engine(SQLALCHEMY_DATABASE_URI)"
   ]
  },
  {
   "cell_type": "code",
   "execution_count": null,
   "metadata": {},
   "outputs": [],
   "source": []
  },
  {
   "cell_type": "code",
   "execution_count": null,
   "metadata": {},
   "outputs": [],
   "source": []
  },
  {
   "cell_type": "markdown",
   "metadata": {},
   "source": [
    "## 1. Returning Users Distribution"
   ]
  },
  {
   "cell_type": "code",
   "execution_count": 4,
   "metadata": {},
   "outputs": [
    {
     "data": {
      "text/plain": [
       "(115341, 12)"
      ]
     },
     "execution_count": 4,
     "metadata": {},
     "output_type": "execute_result"
    }
   ],
   "source": [
    "sql = \\\n",
    "\"\"\"\n",
    "SELECT \n",
    "    review_id, customer_id, review_date, star_rating, \n",
    "    energy_100g, fat_100g, fiber_100g, \n",
    "    carbohydrates_100g, proteins_100g, \n",
    "    salt_100g, sodium_100g, sugars_100g\n",
    "FROM \n",
    "    food_reviews\n",
    "WHERE \n",
    "    energy_100g IS NOT NULL\n",
    "    AND energy_100g < 3000\n",
    "    AND review_date >= '2010-01-01'\n",
    "    AND verified_purchase LIKE 'Y'\n",
    "\"\"\"\n",
    "df = pd.read_sql(sql, con=engine)\n",
    "df.shape"
   ]
  },
  {
   "cell_type": "code",
   "execution_count": 5,
   "metadata": {},
   "outputs": [
    {
     "data": {
      "text/plain": [
       "(115341, 13)"
      ]
     },
     "execution_count": 5,
     "metadata": {},
     "output_type": "execute_result"
    }
   ],
   "source": [
    "df = df.assign(review_times=lambda df: df.groupby('customer_id')[['review_id']].transform('count'))\n",
    "df.shape"
   ]
  },
  {
   "cell_type": "code",
   "execution_count": 6,
   "metadata": {},
   "outputs": [
    {
     "name": "stdout",
     "output_type": "stream",
     "text": [
      "23765\n",
      "115341\n"
     ]
    },
    {
     "data": {
      "text/plain": [
       "0.20604121691332658"
      ]
     },
     "execution_count": 6,
     "metadata": {},
     "output_type": "execute_result"
    }
   ],
   "source": [
    "# about 80% only reviews once, 20% reviews more \n",
    "print(df[df.review_times > 1].shape[0])\n",
    "print(df.shape[0])\n",
    "df[df.review_times > 1].shape[0] / df.shape[0]"
   ]
  },
  {
   "cell_type": "code",
   "execution_count": 7,
   "metadata": {},
   "outputs": [
    {
     "data": {
      "image/png": "[encoded data removed]",
      "text/plain": [
       "<Figure size 864x288 with 1 Axes>"
      ]
     },
     "metadata": {
      "needs_background": "light"
     },
     "output_type": "display_data"
    }
   ],
   "source": [
    "plt.figure(figsize=(12, 4))\n",
    "# plot excluding only review once\n",
    "plt.hist(df[df.review_times > 1].review_times, orientation='horizontal')\n",
    "plt.show()"
   ]
  },
  {
   "cell_type": "code",
   "execution_count": null,
   "metadata": {},
   "outputs": [],
   "source": []
  },
  {
   "cell_type": "code",
   "execution_count": null,
   "metadata": {},
   "outputs": [],
   "source": []
  },
  {
   "cell_type": "markdown",
   "metadata": {},
   "source": [
    "## 2. Difference on _Product Ratings_"
   ]
  },
  {
   "cell_type": "code",
   "execution_count": 8,
   "metadata": {},
   "outputs": [
    {
     "data": {
      "text/plain": [
       "once    91576\n",
       "more    23765\n",
       "Name: binary, dtype: int64"
      ]
     },
     "execution_count": 8,
     "metadata": {},
     "output_type": "execute_result"
    }
   ],
   "source": [
    "tmp = df.assign(binary=lambda df: df.review_times.apply(lambda d: 'once' if d == 1 else 'more'))\n",
    "tmp.binary.value_counts()"
   ]
  },
  {
   "cell_type": "code",
   "execution_count": 9,
   "metadata": {},
   "outputs": [
    {
     "data": {
      "text/plain": [
       "count    91576.000000\n",
       "mean         4.389425\n",
       "std          1.166922\n",
       "min          1.000000\n",
       "25%          4.000000\n",
       "50%          5.000000\n",
       "75%          5.000000\n",
       "max          5.000000\n",
       "Name: star_rating, dtype: float64"
      ]
     },
     "execution_count": 9,
     "metadata": {},
     "output_type": "execute_result"
    }
   ],
   "source": [
    "tmp[tmp.binary =='once'].star_rating.describe()\n",
    "# note mean is lower, 25% quantile at 4"
   ]
  },
  {
   "cell_type": "code",
   "execution_count": 10,
   "metadata": {},
   "outputs": [
    {
     "data": {
      "text/plain": [
       "count    23765.000000\n",
       "mean         4.543362\n",
       "std          0.958413\n",
       "min          1.000000\n",
       "25%          5.000000\n",
       "50%          5.000000\n",
       "75%          5.000000\n",
       "max          5.000000\n",
       "Name: star_rating, dtype: float64"
      ]
     },
     "execution_count": 10,
     "metadata": {},
     "output_type": "execute_result"
    }
   ],
   "source": [
    "tmp[tmp.binary =='more'].star_rating.describe()\n",
    "# 25% quantile at 5"
   ]
  },
  {
   "cell_type": "code",
   "execution_count": 11,
   "metadata": {},
   "outputs": [
    {
     "data": {
      "image/png": "[encoded data removed]",
      "text/plain": [
       "<Figure size 864x288 with 1 Axes>"
      ]
     },
     "metadata": {
      "needs_background": "light"
     },
     "output_type": "display_data"
    }
   ],
   "source": [
    "plt.figure(figsize=(12, 4))\n",
    "df.assign(binary=lambda df: df.review_times.apply(lambda d: 'once' if d == 1 else 'more'))\\\n",
    "    .pipe((sns.countplot, 'data'), x='star_rating', hue='binary', )\n",
    "plt.show()\n",
    "# count plot with counts"
   ]
  },
  {
   "cell_type": "code",
   "execution_count": 12,
   "metadata": {},
   "outputs": [
    {
     "data": {
      "image/png": "[encoded data removed]",
      "text/plain": [
       "<Figure size 864x288 with 1 Axes>"
      ]
     },
     "metadata": {
      "needs_background": "light"
     },
     "output_type": "display_data"
    }
   ],
   "source": [
    "plt.figure(figsize=(12, 4))\n",
    "df.assign(binary=lambda df: df.review_times.apply(lambda d: 'once' if d == 1 else 'more'))\\\n",
    "    .pipe((sns.boxplot, 'data'), x='star_rating', y='binary')\n",
    "# plt.savefig('./figures/return_rating-box.png', bbox_inches='tight', dpi=300)\n",
    "plt.show()\n",
    "# no difference in rating"
   ]
  },
  {
   "cell_type": "code",
   "execution_count": 13,
   "metadata": {},
   "outputs": [
    {
     "data": {
      "image/png": "[encoded data removed]",
      "text/plain": [
       "<Figure size 864x288 with 1 Axes>"
      ]
     },
     "metadata": {
      "needs_background": "light"
     },
     "output_type": "display_data"
    }
   ],
   "source": [
    "plt.figure(figsize=(12, 4))\n",
    "df.assign(binary=lambda df: df.review_times.apply(lambda d: 'once' if d == 1 else 'more'))\\\n",
    "    .pipe((sns.violinplot, 'data'), x='star_rating', y='binary', scale='area', width=1.)\n",
    "# plt.savefig('./figures/return_rating-violin.png', bbox_inches='tight', dpi=300)\n",
    "plt.show()\n",
    "# no difference in rating"
   ]
  },
  {
   "cell_type": "code",
   "execution_count": null,
   "metadata": {},
   "outputs": [],
   "source": []
  },
  {
   "cell_type": "code",
   "execution_count": null,
   "metadata": {},
   "outputs": [],
   "source": []
  },
  {
   "cell_type": "markdown",
   "metadata": {},
   "source": [
    "## 3. Difference on Product Nutrients"
   ]
  },
  {
   "cell_type": "code",
   "execution_count": 14,
   "metadata": {},
   "outputs": [
    {
     "data": {
      "image/png": "[encoded data removed]",
      "text/plain": [
       "<Figure size 864x864 with 8 Axes>"
      ]
     },
     "metadata": {},
     "output_type": "display_data"
    }
   ],
   "source": [
    "tmp = df.assign(binary=lambda df: df.review_times.apply(lambda d: 'once' if d == 1 else 'more'))\n",
    "nutrients = ['energy_100g', 'fat_100g', 'fiber_100g', 'carbohydrates_100g', \n",
    "             'proteins_100g', 'salt_100g', 'sodium_100g', 'sugars_100g']\n",
    "\n",
    "fig, axs = plt.subplots(4,2, figsize=(12, 12), facecolor='w', edgecolor='k')\n",
    "axs = axs.ravel()\n",
    "for i in range(8):\n",
    "    sns.boxplot(x=nutrients[i], y='binary', data=tmp, ax=axs[i])\n",
    "plt.tight_layout()\n",
    "# plt.savefig('./figures/return_nutrients.png', bbox_inches='tight', dpi=300)\n",
    "plt.show()\n",
    "# only some difference in sugar content"
   ]
  },
  {
   "cell_type": "code",
   "execution_count": null,
   "metadata": {},
   "outputs": [],
   "source": []
  },
  {
   "cell_type": "code",
   "execution_count": null,
   "metadata": {},
   "outputs": [],
   "source": []
  },
  {
   "cell_type": "markdown",
   "metadata": {},
   "source": [
    "## 4. Difference on Review Length"
   ]
  },
  {
   "cell_type": "code",
   "execution_count": 22,
   "metadata": {},
   "outputs": [
    {
     "data": {
      "text/plain": [
       "count    115341.000000\n",
       "mean         36.733148\n",
       "std          44.651252\n",
       "min           0.000000\n",
       "25%          11.000000\n",
       "50%          25.000000\n",
       "75%          45.000000\n",
       "max        1439.000000\n",
       "Name: review_len, dtype: float64"
      ]
     },
     "execution_count": 22,
     "metadata": {},
     "output_type": "execute_result"
    }
   ],
   "source": [
    "func = lambda s:  0 if s is None else len(s.split(' '))\n",
    "tmp = df.assign(review_len=lambda df: df.review_body.apply(func))\n",
    "\n",
    "tmp.review_len.describe()"
   ]
  },
  {
   "cell_type": "code",
   "execution_count": 24,
   "metadata": {},
   "outputs": [
    {
     "data": {
      "image/png": "[encoded data removed]",
      "text/plain": [
       "<Figure size 864x288 with 1 Axes>"
      ]
     },
     "metadata": {
      "needs_background": "light"
     },
     "output_type": "display_data"
    }
   ],
   "source": [
    "# having outliers, set a limit by 100\n",
    "plt.figure(figsize=(12, 4))\n",
    "\n",
    "tmp.query('review_len <= 100')\\\n",
    "    .pipe((sns.violinplot, 'data'), x='review_len', y='binary')\n",
    "# plt.savefig('./figures/return_review-length.png', bbox_inches='tight', dpi=300)\n",
    "plt.show()\n",
    "# no difference in rating"
   ]
  },
  {
   "cell_type": "code",
   "execution_count": null,
   "metadata": {},
   "outputs": [],
   "source": []
  },
  {
   "cell_type": "code",
   "execution_count": null,
   "metadata": {},
   "outputs": [],
   "source": []
  },
  {
   "cell_type": "markdown",
   "metadata": {},
   "source": [
    "## 5. Difference on Words used in Reviews\n",
    "+ https://www.datacamp.com/community/tutorials/wordcloud-python\n",
    "+ https://towardsdatascience.com/identify-top-topics-using-word-cloud-9c54bc84d911\n",
    "+ to Lollipop Chart"
   ]
  },
  {
   "cell_type": "code",
   "execution_count": 25,
   "metadata": {},
   "outputs": [],
   "source": [
    "import re\n",
    "import json\n",
    "from collections import Counter\n",
    "from nltk.corpus import stopwords\n",
    "# from nltk.tokenize import TweetTokenizer"
   ]
  },
  {
   "cell_type": "code",
   "execution_count": 26,
   "metadata": {},
   "outputs": [
    {
     "data": {
      "text/plain": [
       "(115341, 5)"
      ]
     },
     "execution_count": 26,
     "metadata": {},
     "output_type": "execute_result"
    }
   ],
   "source": [
    "sql = \\\n",
    "\"\"\"\n",
    "SELECT \n",
    "    review_id, customer_id, review_body\n",
    "FROM \n",
    "    food_reviews\n",
    "WHERE \n",
    "    energy_100g IS NOT NULL\n",
    "    AND energy_100g < 3000\n",
    "    AND review_date >= '2010-01-01'\n",
    "    AND verified_purchase LIKE 'Y'\n",
    "\"\"\"\n",
    "df = pd.read_sql(sql, con=engine)\\\n",
    "    .assign(review_times=lambda df: df.groupby('customer_id')[['review_id']].transform('count'))\\\n",
    "    .assign(binary=lambda df: df.review_times.apply(lambda d: 'once' if d == 1 else 'more'))\n",
    "df.shape"
   ]
  },
  {
   "cell_type": "code",
   "execution_count": 27,
   "metadata": {},
   "outputs": [
    {
     "data": {
      "text/plain": [
       "180"
      ]
     },
     "execution_count": 27,
     "metadata": {},
     "output_type": "execute_result"
    }
   ],
   "source": [
    "stopWords = set(stopwords.words('english')) # 179 originally\n",
    "commonWords = [\"br\"]\n",
    "stopWords.update(commonWords)\n",
    "# stopWords\n",
    "len(stopWords)"
   ]
  },
  {
   "cell_type": "code",
   "execution_count": 28,
   "metadata": {},
   "outputs": [
    {
     "data": {
      "text/plain": [
       "(1639462, 469124)"
      ]
     },
     "execution_count": 28,
     "metadata": {},
     "output_type": "execute_result"
    }
   ],
   "source": [
    "# build review strings by each group\n",
    "text_once = []\n",
    "text_more = []\n",
    "for row in df.itertuples():\n",
    "    if (row.binary == 'once') & (row.review_body is not None):\n",
    "        for word in re.split(r'\\W+', row.review_body.lower()):\n",
    "            if (word not in stopWords) & (word != \"\"): \n",
    "                text_once.append(word)\n",
    "    elif (row.binary == 'more') & (row.review_body is not None):\n",
    "        for word in re.split(r'\\W+', row.review_body.lower()):\n",
    "            if (word not in stopWords) & (word != \"\"): \n",
    "                text_more.append(word)\n",
    "                \n",
    "counterOnce = Counter(text_once)\n",
    "counterMore = Counter(text_more)\n",
    "len(text_once), len(text_more)"
   ]
  },
  {
   "cell_type": "markdown",
   "metadata": {},
   "source": [
    "Sorted by Percentage, ascending\n",
    "```python\n",
    "sorted([(c, counterOnce[c] / len(text_once) * 100.0) for c in counterOnce], \n",
    "       key=lambda d: d[1], reverse=True)[:10]\n",
    "\n",
    "sorted([(c, counterMore[c] / len(text_more) * 100.0) for c in counterMore], \n",
    "       key=lambda d: d[1], reverse=True)[:10]\n",
    "```"
   ]
  },
  {
   "cell_type": "code",
   "execution_count": null,
   "metadata": {},
   "outputs": [],
   "source": []
  },
  {
   "cell_type": "markdown",
   "metadata": {},
   "source": [
    "return json as:   \n",
    "`{'more':[{word: , value: }], 'once': [{word: , value: }]}`"
   ]
  },
  {
   "cell_type": "code",
   "execution_count": 42,
   "metadata": {},
   "outputs": [],
   "source": [
    "# if output the percentage of a token\n",
    "pctOnce = sorted([(c, counterOnce[c] / len(text_once) * 100.0) for c in counterOnce], \n",
    "                 key=lambda d: d[1], reverse=True)\n",
    "pctMore = sorted([(c, counterMore[c] / len(text_more) * 100.0) for c in counterMore], \n",
    "                 key=lambda d: d[1], reverse=True)\n",
    "\n",
    "d = {'once': [{'word': w, 'value': v} for (w, v) in pctOnce], \n",
    "     'more': [{'word': w, 'value': v} for (w, v) in pctMore] }"
   ]
  },
  {
   "cell_type": "markdown",
   "metadata": {},
   "source": [
    "```python\n",
    "# if output the count of a token \n",
    "d = {'once': [{'word': w, 'value': v} for (w, v) in counterOnce.items()], \n",
    "     'more': [{'word': w, 'value': v} for (w, v) in counterMore.items()] }\n",
    "```"
   ]
  },
  {
   "cell_type": "code",
   "execution_count": 43,
   "metadata": {},
   "outputs": [],
   "source": [
    "# reduce size to 5000\n",
    "d['once'] = d['once'][:5000]\n",
    "d['more'] = d['more'][:5000]"
   ]
  },
  {
   "cell_type": "code",
   "execution_count": 44,
   "metadata": {},
   "outputs": [],
   "source": [
    "#dump as a long string\n",
    "# json.dumps(d)\n",
    "\n",
    "# dump to a file\n",
    "# as objects in file\n",
    "with open('returning_words.json', 'w', encoding='utf-8') as f:\n",
    "    json.dump(d, f, ensure_ascii=False, indent=4)"
   ]
  },
  {
   "cell_type": "code",
   "execution_count": null,
   "metadata": {},
   "outputs": [],
   "source": []
  },
  {
   "cell_type": "code",
   "execution_count": null,
   "metadata": {},
   "outputs": [],
   "source": []
  },
  {
   "cell_type": "code",
   "execution_count": null,
   "metadata": {},
   "outputs": [],
   "source": []
  },
  {
   "cell_type": "markdown",
   "metadata": {},
   "source": [
    "## Users' Time of Review\n",
    "+ Output data for rigeline chart\n",
    "+ \"when to leave a review\"\n",
    "+ x-axis: day of a week\n",
    "+ y-axis: category of times a user leaving a review\n",
    "+ value: smoothed p value on review counts"
   ]
  },
  {
   "cell_type": "code",
   "execution_count": 85,
   "metadata": {},
   "outputs": [],
   "source": [
    "start_date = '2014-01-01'\n",
    "end_date = '2014-12-31'"
   ]
  },
  {
   "cell_type": "code",
   "execution_count": 86,
   "metadata": {},
   "outputs": [
    {
     "data": {
      "text/plain": [
       "(38254, 3)"
      ]
     },
     "execution_count": 86,
     "metadata": {},
     "output_type": "execute_result"
    }
   ],
   "source": [
    "query = \\\n",
    "\"\"\"\n",
    "SELECT \n",
    "    customer_id,\n",
    "    review_id, \n",
    "    review_date\n",
    "FROM \n",
    "    food_reviews\n",
    "WHERE \n",
    "    verified_purchase LIKE 'Y'\n",
    "    AND review_date IS NOT NULL\n",
    "    AND review_date BETWEEN '{0}' AND '{1}'\n",
    "ORDER BY\n",
    "    review_date\n",
    "\"\"\".format(start_date, end_date)\n",
    "sub = pd.read_sql(query, con=engine)\n",
    "sub.shape"
   ]
  },
  {
   "cell_type": "code",
   "execution_count": 96,
   "metadata": {},
   "outputs": [],
   "source": [
    "# 3 to 11\n",
    "n_times = 6"
   ]
  },
  {
   "cell_type": "code",
   "execution_count": 97,
   "metadata": {},
   "outputs": [
    {
     "data": {
      "text/plain": [
       "14"
      ]
     },
     "execution_count": 97,
     "metadata": {},
     "output_type": "execute_result"
    }
   ],
   "source": [
    "index = []\n",
    "for times in range(1, n_times):\n",
    "    for weekday in range(7):\n",
    "        index.append((times, weekday))\n",
    "len(index) # (number of category) * (number of days)"
   ]
  },
  {
   "cell_type": "code",
   "execution_count": 98,
   "metadata": {},
   "outputs": [],
   "source": [
    "# more than 10 times, reset as 10\n",
    "data = sub.assign(times=lambda df: df.groupby('customer_id')[['review_id']].transform('count'))\\\n",
    "    .assign(times=lambda df: np.where(df.times >= n_times-1, n_times-1, df.times))\\\n",
    "    .groupby(['times', sub.review_date.dt.dayofweek])[['review_id']].count()\\\n",
    "    .reindex(index, fill_value=0)\\\n",
    "    .reset_index(drop=False)\\\n",
    "    .assign(byTimesSum=lambda d: d.groupby('times')[['review_id']].transform('sum'))\\\n",
    "    .assign(p=lambda d: d.review_id / d.byTimesSum)\\\n",
    "    .assign(byTimesMaxP=lambda d: d.groupby('times')[['p']].transform(max))\\\n",
    "    .assign(p_peak=lambda d: d.p / d.byTimesMaxP)\\\n",
    "    .assign(p_lag1=lambda d: d.groupby('times')[['p_peak']].shift(-1))\\\n",
    "    .assign(p_lead1=lambda d: d.groupby('times')[['p_peak']].shift(1))\\\n",
    "    .assign(p_smooth=lambda d: (d.p_lag1 + d.p_peak + d.p_lead1) / 3)\\\n",
    "    .drop(['review_id', 'byTimesSum', 'byTimesMaxP', 'p_lag1', 'p_lead1',], axis=1)\\\n",
    "    .rename(columns={'times': 'review_times', 'review_date': 'weekday'})\\\n",
    "    .fillna(method='ffill', axis=1)"
   ]
  },
  {
   "cell_type": "code",
   "execution_count": 99,
   "metadata": {},
   "outputs": [
    {
     "data": {
      "text/plain": [
       "'[{\"review_times\":1.0,\"weekday\":0.0,\"p\":0.1544062733,\"p_peak\":1.0,\"p_smooth\":1.0},{\"review_times\":1.0,\"weekday\":1.0,\"p\":0.1509833209,\"p_peak\":0.9778315195,\"p_smooth\":0.9863630257},{\"review_times\":1.0,\"weekday\":2.0,\"p\":0.1515123226,\"p_peak\":0.9812575574,\"p_smooth\":0.9639930136}]'"
      ]
     },
     "execution_count": 99,
     "metadata": {},
     "output_type": "execute_result"
    }
   ],
   "source": [
    "# sample for first 3 rows\n",
    "data.iloc[:3, :].to_json(orient='records')\n",
    "# data.to_json('local.json', orient='records', )"
   ]
  },
  {
   "cell_type": "code",
   "execution_count": null,
   "metadata": {},
   "outputs": [],
   "source": []
  },
  {
   "cell_type": "code",
   "execution_count": null,
   "metadata": {},
   "outputs": [],
   "source": []
  },
  {
   "cell_type": "code",
   "execution_count": null,
   "metadata": {},
   "outputs": [],
   "source": []
  },
  {
   "cell_type": "code",
   "execution_count": null,
   "metadata": {},
   "outputs": [],
   "source": []
  }
 ],
 "metadata": {
  "kernelspec": {
   "display_name": "Python (sklearn)",
   "language": "python",
   "name": "sklearn"
  },
  "language_info": {
   "codemirror_mode": {
    "name": "ipython",
    "version": 3
   },
   "file_extension": ".py",
   "mimetype": "text/x-python",
   "name": "python",
   "nbconvert_exporter": "python",
   "pygments_lexer": "ipython3",
   "version": "3.7.3"
  }
 },
 "nbformat": 4,
 "nbformat_minor": 4
}
