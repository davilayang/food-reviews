{
 "cells": [
  {
   "cell_type": "markdown",
   "metadata": {},
   "source": [
    "# Exploratory Analysis"
   ]
  },
  {
   "cell_type": "code",
   "execution_count": 7,
   "metadata": {},
   "outputs": [],
   "source": [
    "import os\n",
    "import pandas as pd\n",
    "import numpy as np\n",
    "import matplotlib.pyplot as plt\n",
    "import seaborn as sns\n",
    "\n",
    "from collections import Counter\n",
    "sns.set()"
   ]
  },
  {
   "cell_type": "code",
   "execution_count": null,
   "metadata": {},
   "outputs": [],
   "source": []
  },
  {
   "cell_type": "markdown",
   "metadata": {},
   "source": [
    "## Merged Data"
   ]
  },
  {
   "cell_type": "code",
   "execution_count": 8,
   "metadata": {},
   "outputs": [
    {
     "data": {
      "text/plain": [
       "(147304, 134)"
      ]
     },
     "execution_count": 8,
     "metadata": {},
     "output_type": "execute_result"
    }
   ],
   "source": [
    "data_path = 'D:\\DATA\\OurFoods'\n",
    "df = pd.read_csv(os.path.join(data_path, 'merged_amz-off_1.csv.gz'),\\\n",
    "                 dtype={'customer_id': 'object', 'product_parent': 'object', \\\n",
    "                        'star_rating': pd.Int64Dtype(), 'helpful_votes': pd.Int64Dtype(), \n",
    "                        'total_votes': pd.Int64Dtype(), \\\n",
    "                        'code': 'object'},\n",
    "                 compression='gzip')\n",
    "# convert reivew_date to datetime object\n",
    "df.review_date = pd.to_datetime(df.review_date)\n",
    "# drop the rows without nutrient data\n",
    "df = df[df.energy_100g.notna()]\n",
    "df.shape"
   ]
  },
  {
   "cell_type": "code",
   "execution_count": 27,
   "metadata": {},
   "outputs": [
    {
     "data": {
      "text/html": [
       "<div>\n",
       "<style scoped>\n",
       "    .dataframe tbody tr th:only-of-type {\n",
       "        vertical-align: middle;\n",
       "    }\n",
       "\n",
       "    .dataframe tbody tr th {\n",
       "        vertical-align: top;\n",
       "    }\n",
       "\n",
       "    .dataframe thead th {\n",
       "        text-align: right;\n",
       "    }\n",
       "</style>\n",
       "<table border=\"1\" class=\"dataframe\">\n",
       "  <thead>\n",
       "    <tr style=\"text-align: right;\">\n",
       "      <th></th>\n",
       "      <th>choline_100g</th>\n",
       "      <th>phylloquinone_100g</th>\n",
       "      <th>beta-glucan_100g</th>\n",
       "      <th>inositol_100g</th>\n",
       "      <th>carnitine_100g</th>\n",
       "      <th>tokens_x.1</th>\n",
       "      <th>tokens_y</th>\n",
       "      <th>filter</th>\n",
       "      <th>tokens_y.1</th>\n",
       "    </tr>\n",
       "  </thead>\n",
       "  <tbody>\n",
       "    <tr>\n",
       "      <th>0</th>\n",
       "      <td>NaN</td>\n",
       "      <td>NaN</td>\n",
       "      <td>NaN</td>\n",
       "      <td>NaN</td>\n",
       "      <td>NaN</td>\n",
       "      <td>('kadoya', 'oil', 'pure', 'sesame')</td>\n",
       "      <td>('kadoya', 'oil', 'pure', 'sesame')</td>\n",
       "      <td>1</td>\n",
       "      <td>('kadoya', 'oil', 'pure', 'sesame')</td>\n",
       "    </tr>\n",
       "    <tr>\n",
       "      <th>1</th>\n",
       "      <td>NaN</td>\n",
       "      <td>NaN</td>\n",
       "      <td>NaN</td>\n",
       "      <td>NaN</td>\n",
       "      <td>NaN</td>\n",
       "      <td>('kadoya', 'oil', 'pure', 'sesame')</td>\n",
       "      <td>('kadoya', 'oil', 'pure', 'sesame')</td>\n",
       "      <td>1</td>\n",
       "      <td>('kadoya', 'oil', 'pure', 'sesame')</td>\n",
       "    </tr>\n",
       "    <tr>\n",
       "      <th>2</th>\n",
       "      <td>NaN</td>\n",
       "      <td>NaN</td>\n",
       "      <td>NaN</td>\n",
       "      <td>NaN</td>\n",
       "      <td>NaN</td>\n",
       "      <td>('kadoya', 'oil', 'pure', 'sesame')</td>\n",
       "      <td>('kadoya', 'oil', 'pure', 'sesame')</td>\n",
       "      <td>1</td>\n",
       "      <td>('kadoya', 'oil', 'pure', 'sesame')</td>\n",
       "    </tr>\n",
       "    <tr>\n",
       "      <th>3</th>\n",
       "      <td>NaN</td>\n",
       "      <td>NaN</td>\n",
       "      <td>NaN</td>\n",
       "      <td>NaN</td>\n",
       "      <td>NaN</td>\n",
       "      <td>('kadoya', 'oil', 'pure', 'sesame')</td>\n",
       "      <td>('kadoya', 'oil', 'pure', 'sesame')</td>\n",
       "      <td>1</td>\n",
       "      <td>('kadoya', 'oil', 'pure', 'sesame')</td>\n",
       "    </tr>\n",
       "    <tr>\n",
       "      <th>4</th>\n",
       "      <td>NaN</td>\n",
       "      <td>NaN</td>\n",
       "      <td>NaN</td>\n",
       "      <td>NaN</td>\n",
       "      <td>NaN</td>\n",
       "      <td>('kadoya', 'oil', 'pure', 'sesame')</td>\n",
       "      <td>('kadoya', 'oil', 'pure', 'sesame')</td>\n",
       "      <td>1</td>\n",
       "      <td>('kadoya', 'oil', 'pure', 'sesame')</td>\n",
       "    </tr>\n",
       "    <tr>\n",
       "      <th>5</th>\n",
       "      <td>NaN</td>\n",
       "      <td>NaN</td>\n",
       "      <td>NaN</td>\n",
       "      <td>NaN</td>\n",
       "      <td>NaN</td>\n",
       "      <td>('kadoya', 'oil', 'pure', 'sesame')</td>\n",
       "      <td>('kadoya', 'oil', 'pure', 'sesame')</td>\n",
       "      <td>1</td>\n",
       "      <td>('kadoya', 'oil', 'pure', 'sesame')</td>\n",
       "    </tr>\n",
       "    <tr>\n",
       "      <th>6</th>\n",
       "      <td>NaN</td>\n",
       "      <td>NaN</td>\n",
       "      <td>NaN</td>\n",
       "      <td>NaN</td>\n",
       "      <td>NaN</td>\n",
       "      <td>('kadoya', 'oil', 'pure', 'sesame')</td>\n",
       "      <td>('kadoya', 'oil', 'pure', 'sesame')</td>\n",
       "      <td>1</td>\n",
       "      <td>('kadoya', 'oil', 'pure', 'sesame')</td>\n",
       "    </tr>\n",
       "    <tr>\n",
       "      <th>7</th>\n",
       "      <td>NaN</td>\n",
       "      <td>NaN</td>\n",
       "      <td>NaN</td>\n",
       "      <td>NaN</td>\n",
       "      <td>NaN</td>\n",
       "      <td>('kadoya', 'oil', 'pure', 'sesame')</td>\n",
       "      <td>('kadoya', 'oil', 'pure', 'sesame')</td>\n",
       "      <td>1</td>\n",
       "      <td>('kadoya', 'oil', 'pure', 'sesame')</td>\n",
       "    </tr>\n",
       "    <tr>\n",
       "      <th>8</th>\n",
       "      <td>NaN</td>\n",
       "      <td>NaN</td>\n",
       "      <td>NaN</td>\n",
       "      <td>NaN</td>\n",
       "      <td>NaN</td>\n",
       "      <td>('kadoya', 'oil', 'pure', 'sesame')</td>\n",
       "      <td>('kadoya', 'oil', 'pure', 'sesame')</td>\n",
       "      <td>1</td>\n",
       "      <td>('kadoya', 'oil', 'pure', 'sesame')</td>\n",
       "    </tr>\n",
       "    <tr>\n",
       "      <th>9</th>\n",
       "      <td>NaN</td>\n",
       "      <td>NaN</td>\n",
       "      <td>NaN</td>\n",
       "      <td>NaN</td>\n",
       "      <td>NaN</td>\n",
       "      <td>('kadoya', 'oil', 'pure', 'sesame')</td>\n",
       "      <td>('kadoya', 'oil', 'pure', 'sesame')</td>\n",
       "      <td>1</td>\n",
       "      <td>('kadoya', 'oil', 'pure', 'sesame')</td>\n",
       "    </tr>\n",
       "  </tbody>\n",
       "</table>\n",
       "</div>"
      ],
      "text/plain": [
       "   choline_100g  phylloquinone_100g  beta-glucan_100g  inositol_100g  \\\n",
       "0           NaN                 NaN               NaN            NaN   \n",
       "1           NaN                 NaN               NaN            NaN   \n",
       "2           NaN                 NaN               NaN            NaN   \n",
       "3           NaN                 NaN               NaN            NaN   \n",
       "4           NaN                 NaN               NaN            NaN   \n",
       "5           NaN                 NaN               NaN            NaN   \n",
       "6           NaN                 NaN               NaN            NaN   \n",
       "7           NaN                 NaN               NaN            NaN   \n",
       "8           NaN                 NaN               NaN            NaN   \n",
       "9           NaN                 NaN               NaN            NaN   \n",
       "\n",
       "   carnitine_100g                           tokens_x.1  \\\n",
       "0             NaN  ('kadoya', 'oil', 'pure', 'sesame')   \n",
       "1             NaN  ('kadoya', 'oil', 'pure', 'sesame')   \n",
       "2             NaN  ('kadoya', 'oil', 'pure', 'sesame')   \n",
       "3             NaN  ('kadoya', 'oil', 'pure', 'sesame')   \n",
       "4             NaN  ('kadoya', 'oil', 'pure', 'sesame')   \n",
       "5             NaN  ('kadoya', 'oil', 'pure', 'sesame')   \n",
       "6             NaN  ('kadoya', 'oil', 'pure', 'sesame')   \n",
       "7             NaN  ('kadoya', 'oil', 'pure', 'sesame')   \n",
       "8             NaN  ('kadoya', 'oil', 'pure', 'sesame')   \n",
       "9             NaN  ('kadoya', 'oil', 'pure', 'sesame')   \n",
       "\n",
       "                              tokens_y  filter  \\\n",
       "0  ('kadoya', 'oil', 'pure', 'sesame')       1   \n",
       "1  ('kadoya', 'oil', 'pure', 'sesame')       1   \n",
       "2  ('kadoya', 'oil', 'pure', 'sesame')       1   \n",
       "3  ('kadoya', 'oil', 'pure', 'sesame')       1   \n",
       "4  ('kadoya', 'oil', 'pure', 'sesame')       1   \n",
       "5  ('kadoya', 'oil', 'pure', 'sesame')       1   \n",
       "6  ('kadoya', 'oil', 'pure', 'sesame')       1   \n",
       "7  ('kadoya', 'oil', 'pure', 'sesame')       1   \n",
       "8  ('kadoya', 'oil', 'pure', 'sesame')       1   \n",
       "9  ('kadoya', 'oil', 'pure', 'sesame')       1   \n",
       "\n",
       "                            tokens_y.1  \n",
       "0  ('kadoya', 'oil', 'pure', 'sesame')  \n",
       "1  ('kadoya', 'oil', 'pure', 'sesame')  \n",
       "2  ('kadoya', 'oil', 'pure', 'sesame')  \n",
       "3  ('kadoya', 'oil', 'pure', 'sesame')  \n",
       "4  ('kadoya', 'oil', 'pure', 'sesame')  \n",
       "5  ('kadoya', 'oil', 'pure', 'sesame')  \n",
       "6  ('kadoya', 'oil', 'pure', 'sesame')  \n",
       "7  ('kadoya', 'oil', 'pure', 'sesame')  \n",
       "8  ('kadoya', 'oil', 'pure', 'sesame')  \n",
       "9  ('kadoya', 'oil', 'pure', 'sesame')  "
      ]
     },
     "execution_count": 27,
     "metadata": {},
     "output_type": "execute_result"
    }
   ],
   "source": [
    "df.iloc[0:10, 125:]"
   ]
  },
  {
   "cell_type": "code",
   "execution_count": null,
   "metadata": {},
   "outputs": [],
   "source": []
  },
  {
   "cell_type": "markdown",
   "metadata": {},
   "source": [
    "### Subset on main nutrients\n",
    "+ Amazon Reivew attributes & Product Main Nutrients\n",
    "+ including: ['energy_100g', 'fat_100g', 'fiber_100g', 'carbohydrates_100g', 'proteins_100g', 'salt_100g', 'sodium_100g', 'sugars_100g']"
   ]
  },
  {
   "cell_type": "code",
   "execution_count": 9,
   "metadata": {},
   "outputs": [
    {
     "data": {
      "text/plain": [
       "(62025, 21)"
      ]
     },
     "execution_count": 9,
     "metadata": {},
     "output_type": "execute_result"
    }
   ],
   "source": [
    "main = ['energy_100g', 'fat_100g', 'fiber_100g', 'carbohydrates_100g', \\\n",
    "        'proteins_100g', 'salt_100g', 'sodium_100g', 'sugars_100g']\n",
    "sub = df.loc[:, df.columns[:13].tolist()+main]\n",
    "# extract only data with nutrients and remove outliners\n",
    "sub = sub[((sub.energy_100g.notna()) & (sub.energy_100g < 1000))]\n",
    "sub.shape"
   ]
  },
  {
   "cell_type": "code",
   "execution_count": 10,
   "metadata": {},
   "outputs": [
    {
     "data": {
      "text/plain": [
       "((47257, 21), (14768, 21))"
      ]
     },
     "execution_count": 10,
     "metadata": {},
     "output_type": "execute_result"
    }
   ],
   "source": [
    "sub[sub.energy_100g > 10].shape, sub[sub.energy_100g <= 10].shape\n",
    "# note the majority is low energy product"
   ]
  },
  {
   "cell_type": "code",
   "execution_count": 11,
   "metadata": {},
   "outputs": [
    {
     "data": {
      "text/html": [
       "<div>\n",
       "<style scoped>\n",
       "    .dataframe tbody tr th:only-of-type {\n",
       "        vertical-align: middle;\n",
       "    }\n",
       "\n",
       "    .dataframe tbody tr th {\n",
       "        vertical-align: top;\n",
       "    }\n",
       "\n",
       "    .dataframe thead th {\n",
       "        text-align: right;\n",
       "    }\n",
       "</style>\n",
       "<table border=\"1\" class=\"dataframe\">\n",
       "  <thead>\n",
       "    <tr style=\"text-align: right;\">\n",
       "      <th></th>\n",
       "      <th>review_date</th>\n",
       "      <th>star_rating</th>\n",
       "    </tr>\n",
       "    <tr>\n",
       "      <th>review_date</th>\n",
       "      <th></th>\n",
       "      <th></th>\n",
       "    </tr>\n",
       "  </thead>\n",
       "  <tbody>\n",
       "    <tr>\n",
       "      <th>2003.0</th>\n",
       "      <td>10</td>\n",
       "      <td>10</td>\n",
       "    </tr>\n",
       "    <tr>\n",
       "      <th>2004.0</th>\n",
       "      <td>34</td>\n",
       "      <td>34</td>\n",
       "    </tr>\n",
       "    <tr>\n",
       "      <th>2005.0</th>\n",
       "      <td>99</td>\n",
       "      <td>99</td>\n",
       "    </tr>\n",
       "    <tr>\n",
       "      <th>2006.0</th>\n",
       "      <td>197</td>\n",
       "      <td>197</td>\n",
       "    </tr>\n",
       "    <tr>\n",
       "      <th>2007.0</th>\n",
       "      <td>575</td>\n",
       "      <td>575</td>\n",
       "    </tr>\n",
       "    <tr>\n",
       "      <th>2008.0</th>\n",
       "      <td>814</td>\n",
       "      <td>814</td>\n",
       "    </tr>\n",
       "    <tr>\n",
       "      <th>2009.0</th>\n",
       "      <td>1162</td>\n",
       "      <td>1162</td>\n",
       "    </tr>\n",
       "    <tr>\n",
       "      <th>2010.0</th>\n",
       "      <td>1530</td>\n",
       "      <td>1530</td>\n",
       "    </tr>\n",
       "    <tr>\n",
       "      <th>2011.0</th>\n",
       "      <td>2481</td>\n",
       "      <td>2481</td>\n",
       "    </tr>\n",
       "    <tr>\n",
       "      <th>2012.0</th>\n",
       "      <td>4256</td>\n",
       "      <td>4256</td>\n",
       "    </tr>\n",
       "    <tr>\n",
       "      <th>2013.0</th>\n",
       "      <td>11400</td>\n",
       "      <td>11400</td>\n",
       "    </tr>\n",
       "    <tr>\n",
       "      <th>2014.0</th>\n",
       "      <td>18656</td>\n",
       "      <td>18656</td>\n",
       "    </tr>\n",
       "    <tr>\n",
       "      <th>2015.0</th>\n",
       "      <td>20810</td>\n",
       "      <td>20810</td>\n",
       "    </tr>\n",
       "  </tbody>\n",
       "</table>\n",
       "</div>"
      ],
      "text/plain": [
       "             review_date  star_rating\n",
       "review_date                          \n",
       "2003.0                10           10\n",
       "2004.0                34           34\n",
       "2005.0                99           99\n",
       "2006.0               197          197\n",
       "2007.0               575          575\n",
       "2008.0               814          814\n",
       "2009.0              1162         1162\n",
       "2010.0              1530         1530\n",
       "2011.0              2481         2481\n",
       "2012.0              4256         4256\n",
       "2013.0             11400        11400\n",
       "2014.0             18656        18656\n",
       "2015.0             20810        20810"
      ]
     },
     "execution_count": 11,
     "metadata": {},
     "output_type": "execute_result"
    }
   ],
   "source": [
    "sub[['review_date', 'star_rating']].groupby(sub.review_date.dt.year).count()\n",
    "# not many data before 2005"
   ]
  },
  {
   "cell_type": "code",
   "execution_count": 12,
   "metadata": {},
   "outputs": [
    {
     "data": {
      "text/plain": [
       "(61980, 21)"
      ]
     },
     "execution_count": 12,
     "metadata": {},
     "output_type": "execute_result"
    }
   ],
   "source": [
    "# get data after 2005\n",
    "sub = sub[sub.review_date.dt.year >= 2005]\n",
    "sub.shape"
   ]
  },
  {
   "cell_type": "code",
   "execution_count": null,
   "metadata": {},
   "outputs": [],
   "source": []
  },
  {
   "cell_type": "code",
   "execution_count": null,
   "metadata": {},
   "outputs": [],
   "source": []
  },
  {
   "cell_type": "markdown",
   "metadata": {},
   "source": [
    "### Group by time\n",
    "+ by year\n",
    "+ by month"
   ]
  },
  {
   "cell_type": "code",
   "execution_count": 13,
   "metadata": {},
   "outputs": [
    {
     "data": {
      "text/html": [
       "<div>\n",
       "<style scoped>\n",
       "    .dataframe tbody tr th:only-of-type {\n",
       "        vertical-align: middle;\n",
       "    }\n",
       "\n",
       "    .dataframe tbody tr th {\n",
       "        vertical-align: top;\n",
       "    }\n",
       "\n",
       "    .dataframe thead th {\n",
       "        text-align: right;\n",
       "    }\n",
       "</style>\n",
       "<table border=\"1\" class=\"dataframe\">\n",
       "  <thead>\n",
       "    <tr style=\"text-align: right;\">\n",
       "      <th></th>\n",
       "      <th>review_date</th>\n",
       "      <th>star_rating</th>\n",
       "      <th>energy_100g</th>\n",
       "      <th>fat_100g</th>\n",
       "      <th>fiber_100g</th>\n",
       "      <th>carbohydrates_100g</th>\n",
       "      <th>proteins_100g</th>\n",
       "      <th>salt_100g</th>\n",
       "      <th>sodium_100g</th>\n",
       "      <th>sugars_100g</th>\n",
       "    </tr>\n",
       "    <tr>\n",
       "      <th>review_date</th>\n",
       "      <th></th>\n",
       "      <th></th>\n",
       "      <th></th>\n",
       "      <th></th>\n",
       "      <th></th>\n",
       "      <th></th>\n",
       "      <th></th>\n",
       "      <th></th>\n",
       "      <th></th>\n",
       "      <th></th>\n",
       "    </tr>\n",
       "  </thead>\n",
       "  <tbody>\n",
       "    <tr>\n",
       "      <th>2005</th>\n",
       "      <td>2005-07-19 02:40:00.000000000</td>\n",
       "      <td>4.343434</td>\n",
       "      <td>314.864543</td>\n",
       "      <td>5.322211</td>\n",
       "      <td>2.019216</td>\n",
       "      <td>11.622472</td>\n",
       "      <td>2.528987</td>\n",
       "      <td>21.822207</td>\n",
       "      <td>8.729287</td>\n",
       "      <td>7.193489</td>\n",
       "    </tr>\n",
       "    <tr>\n",
       "      <th>2006</th>\n",
       "      <td>2006-07-31 23:30:45.685279232</td>\n",
       "      <td>4.345178</td>\n",
       "      <td>386.256150</td>\n",
       "      <td>6.025493</td>\n",
       "      <td>2.116292</td>\n",
       "      <td>15.074297</td>\n",
       "      <td>3.076181</td>\n",
       "      <td>282.239651</td>\n",
       "      <td>112.779696</td>\n",
       "      <td>8.276505</td>\n",
       "    </tr>\n",
       "    <tr>\n",
       "      <th>2007</th>\n",
       "      <td>2007-07-08 02:17:44.347826176</td>\n",
       "      <td>4.288696</td>\n",
       "      <td>307.119600</td>\n",
       "      <td>4.305331</td>\n",
       "      <td>4.092199</td>\n",
       "      <td>13.556465</td>\n",
       "      <td>2.545768</td>\n",
       "      <td>7.659222</td>\n",
       "      <td>3.049175</td>\n",
       "      <td>7.721700</td>\n",
       "    </tr>\n",
       "    <tr>\n",
       "      <th>2008</th>\n",
       "      <td>2008-07-11 18:04:25.356265216</td>\n",
       "      <td>4.288698</td>\n",
       "      <td>282.273040</td>\n",
       "      <td>4.205611</td>\n",
       "      <td>4.550190</td>\n",
       "      <td>11.420663</td>\n",
       "      <td>2.495671</td>\n",
       "      <td>11.246059</td>\n",
       "      <td>4.491522</td>\n",
       "      <td>6.315436</td>\n",
       "    </tr>\n",
       "    <tr>\n",
       "      <th>2009</th>\n",
       "      <td>2009-07-13 01:18:04.337349632</td>\n",
       "      <td>4.320998</td>\n",
       "      <td>261.770568</td>\n",
       "      <td>2.796604</td>\n",
       "      <td>4.427221</td>\n",
       "      <td>10.998004</td>\n",
       "      <td>1.883205</td>\n",
       "      <td>8.285375</td>\n",
       "      <td>3.284991</td>\n",
       "      <td>7.361118</td>\n",
       "    </tr>\n",
       "    <tr>\n",
       "      <th>2010</th>\n",
       "      <td>2010-07-10 05:33:10.588235264</td>\n",
       "      <td>4.203268</td>\n",
       "      <td>280.795688</td>\n",
       "      <td>2.415771</td>\n",
       "      <td>3.419220</td>\n",
       "      <td>11.207440</td>\n",
       "      <td>1.959669</td>\n",
       "      <td>7.009677</td>\n",
       "      <td>2.795491</td>\n",
       "      <td>7.764645</td>\n",
       "    </tr>\n",
       "    <tr>\n",
       "      <th>2011</th>\n",
       "      <td>2011-07-13 02:37:52.309552640</td>\n",
       "      <td>4.150746</td>\n",
       "      <td>303.285460</td>\n",
       "      <td>3.854042</td>\n",
       "      <td>4.963424</td>\n",
       "      <td>12.004576</td>\n",
       "      <td>2.363129</td>\n",
       "      <td>13.585972</td>\n",
       "      <td>5.427171</td>\n",
       "      <td>7.456319</td>\n",
       "    </tr>\n",
       "    <tr>\n",
       "      <th>2012</th>\n",
       "      <td>2012-07-28 10:43:11.729323264</td>\n",
       "      <td>4.156250</td>\n",
       "      <td>321.711054</td>\n",
       "      <td>3.346183</td>\n",
       "      <td>4.620672</td>\n",
       "      <td>11.960329</td>\n",
       "      <td>2.797785</td>\n",
       "      <td>8.685577</td>\n",
       "      <td>3.464382</td>\n",
       "      <td>7.181147</td>\n",
       "    </tr>\n",
       "    <tr>\n",
       "      <th>2013</th>\n",
       "      <td>2013-07-08 00:58:06.315789568</td>\n",
       "      <td>4.364386</td>\n",
       "      <td>316.333324</td>\n",
       "      <td>3.507887</td>\n",
       "      <td>5.607626</td>\n",
       "      <td>12.612449</td>\n",
       "      <td>2.547845</td>\n",
       "      <td>14.781572</td>\n",
       "      <td>5.901221</td>\n",
       "      <td>7.251053</td>\n",
       "    </tr>\n",
       "    <tr>\n",
       "      <th>2014</th>\n",
       "      <td>2014-07-23 11:18:46.929673984</td>\n",
       "      <td>4.390866</td>\n",
       "      <td>307.151653</td>\n",
       "      <td>3.626770</td>\n",
       "      <td>4.860303</td>\n",
       "      <td>12.245958</td>\n",
       "      <td>2.557789</td>\n",
       "      <td>14.538030</td>\n",
       "      <td>5.800791</td>\n",
       "      <td>7.127978</td>\n",
       "    </tr>\n",
       "    <tr>\n",
       "      <th>2015</th>\n",
       "      <td>2015-05-05 01:39:26.208553472</td>\n",
       "      <td>4.394474</td>\n",
       "      <td>294.007223</td>\n",
       "      <td>3.832509</td>\n",
       "      <td>4.003263</td>\n",
       "      <td>11.687268</td>\n",
       "      <td>2.515535</td>\n",
       "      <td>19.244825</td>\n",
       "      <td>7.684413</td>\n",
       "      <td>6.854224</td>\n",
       "    </tr>\n",
       "  </tbody>\n",
       "</table>\n",
       "</div>"
      ],
      "text/plain": [
       "                              review_date  star_rating  energy_100g  fat_100g  \\\n",
       "review_date                                                                     \n",
       "2005        2005-07-19 02:40:00.000000000     4.343434   314.864543  5.322211   \n",
       "2006        2006-07-31 23:30:45.685279232     4.345178   386.256150  6.025493   \n",
       "2007        2007-07-08 02:17:44.347826176     4.288696   307.119600  4.305331   \n",
       "2008        2008-07-11 18:04:25.356265216     4.288698   282.273040  4.205611   \n",
       "2009        2009-07-13 01:18:04.337349632     4.320998   261.770568  2.796604   \n",
       "2010        2010-07-10 05:33:10.588235264     4.203268   280.795688  2.415771   \n",
       "2011        2011-07-13 02:37:52.309552640     4.150746   303.285460  3.854042   \n",
       "2012        2012-07-28 10:43:11.729323264     4.156250   321.711054  3.346183   \n",
       "2013        2013-07-08 00:58:06.315789568     4.364386   316.333324  3.507887   \n",
       "2014        2014-07-23 11:18:46.929673984     4.390866   307.151653  3.626770   \n",
       "2015        2015-05-05 01:39:26.208553472     4.394474   294.007223  3.832509   \n",
       "\n",
       "             fiber_100g  carbohydrates_100g  proteins_100g   salt_100g  \\\n",
       "review_date                                                              \n",
       "2005           2.019216           11.622472       2.528987   21.822207   \n",
       "2006           2.116292           15.074297       3.076181  282.239651   \n",
       "2007           4.092199           13.556465       2.545768    7.659222   \n",
       "2008           4.550190           11.420663       2.495671   11.246059   \n",
       "2009           4.427221           10.998004       1.883205    8.285375   \n",
       "2010           3.419220           11.207440       1.959669    7.009677   \n",
       "2011           4.963424           12.004576       2.363129   13.585972   \n",
       "2012           4.620672           11.960329       2.797785    8.685577   \n",
       "2013           5.607626           12.612449       2.547845   14.781572   \n",
       "2014           4.860303           12.245958       2.557789   14.538030   \n",
       "2015           4.003263           11.687268       2.515535   19.244825   \n",
       "\n",
       "             sodium_100g  sugars_100g  \n",
       "review_date                            \n",
       "2005            8.729287     7.193489  \n",
       "2006          112.779696     8.276505  \n",
       "2007            3.049175     7.721700  \n",
       "2008            4.491522     6.315436  \n",
       "2009            3.284991     7.361118  \n",
       "2010            2.795491     7.764645  \n",
       "2011            5.427171     7.456319  \n",
       "2012            3.464382     7.181147  \n",
       "2013            5.901221     7.251053  \n",
       "2014            5.800791     7.127978  \n",
       "2015            7.684413     6.854224  "
      ]
     },
     "execution_count": 13,
     "metadata": {},
     "output_type": "execute_result"
    }
   ],
   "source": [
    "# yearly differece in buying behaviors\n",
    "sub[['review_date', 'star_rating']+main].groupby(sub.review_date.dt.year).mean()"
   ]
  },
  {
   "cell_type": "code",
   "execution_count": 14,
   "metadata": {},
   "outputs": [
    {
     "data": {
      "text/html": [
       "<div>\n",
       "<style scoped>\n",
       "    .dataframe tbody tr th:only-of-type {\n",
       "        vertical-align: middle;\n",
       "    }\n",
       "\n",
       "    .dataframe tbody tr th {\n",
       "        vertical-align: top;\n",
       "    }\n",
       "\n",
       "    .dataframe thead th {\n",
       "        text-align: right;\n",
       "    }\n",
       "</style>\n",
       "<table border=\"1\" class=\"dataframe\">\n",
       "  <thead>\n",
       "    <tr style=\"text-align: right;\">\n",
       "      <th></th>\n",
       "      <th>energy_100g</th>\n",
       "      <th>fat_100g</th>\n",
       "      <th>fiber_100g</th>\n",
       "      <th>carbohydrates_100g</th>\n",
       "      <th>proteins_100g</th>\n",
       "      <th>salt_100g</th>\n",
       "      <th>sodium_100g</th>\n",
       "      <th>sugars_100g</th>\n",
       "    </tr>\n",
       "    <tr>\n",
       "      <th>review_date</th>\n",
       "      <th></th>\n",
       "      <th></th>\n",
       "      <th></th>\n",
       "      <th></th>\n",
       "      <th></th>\n",
       "      <th></th>\n",
       "      <th></th>\n",
       "      <th></th>\n",
       "    </tr>\n",
       "  </thead>\n",
       "  <tbody>\n",
       "    <tr>\n",
       "      <th>1</th>\n",
       "      <td>302.718979</td>\n",
       "      <td>3.395503</td>\n",
       "      <td>4.354465</td>\n",
       "      <td>12.114399</td>\n",
       "      <td>2.488869</td>\n",
       "      <td>16.533181</td>\n",
       "      <td>6.603085</td>\n",
       "      <td>7.306726</td>\n",
       "    </tr>\n",
       "    <tr>\n",
       "      <th>2</th>\n",
       "      <td>305.770974</td>\n",
       "      <td>3.739309</td>\n",
       "      <td>4.660929</td>\n",
       "      <td>11.691596</td>\n",
       "      <td>2.602050</td>\n",
       "      <td>15.915616</td>\n",
       "      <td>6.359072</td>\n",
       "      <td>6.831532</td>\n",
       "    </tr>\n",
       "    <tr>\n",
       "      <th>3</th>\n",
       "      <td>308.579366</td>\n",
       "      <td>3.823304</td>\n",
       "      <td>4.657445</td>\n",
       "      <td>12.229777</td>\n",
       "      <td>2.559601</td>\n",
       "      <td>15.522402</td>\n",
       "      <td>6.195790</td>\n",
       "      <td>7.224178</td>\n",
       "    </tr>\n",
       "    <tr>\n",
       "      <th>4</th>\n",
       "      <td>307.536077</td>\n",
       "      <td>4.007973</td>\n",
       "      <td>5.021809</td>\n",
       "      <td>12.030484</td>\n",
       "      <td>2.493159</td>\n",
       "      <td>18.463494</td>\n",
       "      <td>7.372606</td>\n",
       "      <td>6.884419</td>\n",
       "    </tr>\n",
       "    <tr>\n",
       "      <th>5</th>\n",
       "      <td>305.881848</td>\n",
       "      <td>3.770103</td>\n",
       "      <td>4.209807</td>\n",
       "      <td>11.765826</td>\n",
       "      <td>2.512100</td>\n",
       "      <td>11.754797</td>\n",
       "      <td>4.689680</td>\n",
       "      <td>7.028433</td>\n",
       "    </tr>\n",
       "    <tr>\n",
       "      <th>6</th>\n",
       "      <td>307.934708</td>\n",
       "      <td>3.626653</td>\n",
       "      <td>4.587817</td>\n",
       "      <td>12.389496</td>\n",
       "      <td>2.498112</td>\n",
       "      <td>18.456058</td>\n",
       "      <td>7.364534</td>\n",
       "      <td>7.202815</td>\n",
       "    </tr>\n",
       "    <tr>\n",
       "      <th>7</th>\n",
       "      <td>301.533108</td>\n",
       "      <td>3.934715</td>\n",
       "      <td>4.640390</td>\n",
       "      <td>12.067333</td>\n",
       "      <td>2.488253</td>\n",
       "      <td>15.166496</td>\n",
       "      <td>6.055806</td>\n",
       "      <td>7.016572</td>\n",
       "    </tr>\n",
       "    <tr>\n",
       "      <th>8</th>\n",
       "      <td>280.677828</td>\n",
       "      <td>3.522954</td>\n",
       "      <td>4.302306</td>\n",
       "      <td>11.182962</td>\n",
       "      <td>2.487332</td>\n",
       "      <td>14.803754</td>\n",
       "      <td>5.904351</td>\n",
       "      <td>6.682790</td>\n",
       "    </tr>\n",
       "    <tr>\n",
       "      <th>9</th>\n",
       "      <td>304.140259</td>\n",
       "      <td>3.459050</td>\n",
       "      <td>5.280196</td>\n",
       "      <td>12.188124</td>\n",
       "      <td>2.613459</td>\n",
       "      <td>15.130202</td>\n",
       "      <td>6.033826</td>\n",
       "      <td>6.985154</td>\n",
       "    </tr>\n",
       "    <tr>\n",
       "      <th>10</th>\n",
       "      <td>304.994841</td>\n",
       "      <td>3.644561</td>\n",
       "      <td>4.382516</td>\n",
       "      <td>12.325042</td>\n",
       "      <td>2.581560</td>\n",
       "      <td>30.947561</td>\n",
       "      <td>12.367498</td>\n",
       "      <td>7.321522</td>\n",
       "    </tr>\n",
       "    <tr>\n",
       "      <th>11</th>\n",
       "      <td>311.521590</td>\n",
       "      <td>3.306160</td>\n",
       "      <td>4.563923</td>\n",
       "      <td>12.625710</td>\n",
       "      <td>2.462703</td>\n",
       "      <td>12.852099</td>\n",
       "      <td>5.124948</td>\n",
       "      <td>7.582691</td>\n",
       "    </tr>\n",
       "    <tr>\n",
       "      <th>12</th>\n",
       "      <td>313.804538</td>\n",
       "      <td>3.298665</td>\n",
       "      <td>4.985083</td>\n",
       "      <td>12.586846</td>\n",
       "      <td>2.547195</td>\n",
       "      <td>11.744515</td>\n",
       "      <td>4.684260</td>\n",
       "      <td>7.326973</td>\n",
       "    </tr>\n",
       "  </tbody>\n",
       "</table>\n",
       "</div>"
      ],
      "text/plain": [
       "             energy_100g  fat_100g  fiber_100g  carbohydrates_100g  \\\n",
       "review_date                                                          \n",
       "1             302.718979  3.395503    4.354465           12.114399   \n",
       "2             305.770974  3.739309    4.660929           11.691596   \n",
       "3             308.579366  3.823304    4.657445           12.229777   \n",
       "4             307.536077  4.007973    5.021809           12.030484   \n",
       "5             305.881848  3.770103    4.209807           11.765826   \n",
       "6             307.934708  3.626653    4.587817           12.389496   \n",
       "7             301.533108  3.934715    4.640390           12.067333   \n",
       "8             280.677828  3.522954    4.302306           11.182962   \n",
       "9             304.140259  3.459050    5.280196           12.188124   \n",
       "10            304.994841  3.644561    4.382516           12.325042   \n",
       "11            311.521590  3.306160    4.563923           12.625710   \n",
       "12            313.804538  3.298665    4.985083           12.586846   \n",
       "\n",
       "             proteins_100g  salt_100g  sodium_100g  sugars_100g  \n",
       "review_date                                                      \n",
       "1                 2.488869  16.533181     6.603085     7.306726  \n",
       "2                 2.602050  15.915616     6.359072     6.831532  \n",
       "3                 2.559601  15.522402     6.195790     7.224178  \n",
       "4                 2.493159  18.463494     7.372606     6.884419  \n",
       "5                 2.512100  11.754797     4.689680     7.028433  \n",
       "6                 2.498112  18.456058     7.364534     7.202815  \n",
       "7                 2.488253  15.166496     6.055806     7.016572  \n",
       "8                 2.487332  14.803754     5.904351     6.682790  \n",
       "9                 2.613459  15.130202     6.033826     6.985154  \n",
       "10                2.581560  30.947561    12.367498     7.321522  \n",
       "11                2.462703  12.852099     5.124948     7.582691  \n",
       "12                2.547195  11.744515     4.684260     7.326973  "
      ]
     },
     "execution_count": 14,
     "metadata": {},
     "output_type": "execute_result"
    }
   ],
   "source": [
    "# monthly difference in buying behaviors\n",
    "sub[['review_date']+main].groupby(sub.review_date.dt.month).mean()"
   ]
  },
  {
   "cell_type": "code",
   "execution_count": null,
   "metadata": {},
   "outputs": [],
   "source": []
  },
  {
   "cell_type": "code",
   "execution_count": null,
   "metadata": {},
   "outputs": [],
   "source": []
  },
  {
   "cell_type": "markdown",
   "metadata": {},
   "source": [
    "### Group by nutrients\n",
    "+ by energy\n",
    "+ by sugars"
   ]
  },
  {
   "cell_type": "code",
   "execution_count": 15,
   "metadata": {},
   "outputs": [
    {
     "data": {
      "text/plain": [
       "count    61980.000000\n",
       "mean       303.707451\n",
       "std        303.877356\n",
       "min          0.000000\n",
       "25%         21.000000\n",
       "50%        201.000000\n",
       "75%        544.000000\n",
       "max        996.000000\n",
       "Name: energy_100g, dtype: float64"
      ]
     },
     "execution_count": 15,
     "metadata": {},
     "output_type": "execute_result"
    }
   ],
   "source": [
    "sub.energy_100g.describe()"
   ]
  },
  {
   "cell_type": "code",
   "execution_count": 16,
   "metadata": {},
   "outputs": [
    {
     "data": {
      "text/html": [
       "<div>\n",
       "<style scoped>\n",
       "    .dataframe tbody tr th:only-of-type {\n",
       "        vertical-align: middle;\n",
       "    }\n",
       "\n",
       "    .dataframe tbody tr th {\n",
       "        vertical-align: top;\n",
       "    }\n",
       "\n",
       "    .dataframe thead th {\n",
       "        text-align: right;\n",
       "    }\n",
       "</style>\n",
       "<table border=\"1\" class=\"dataframe\">\n",
       "  <thead>\n",
       "    <tr style=\"text-align: right;\">\n",
       "      <th></th>\n",
       "      <th>star_rating</th>\n",
       "    </tr>\n",
       "    <tr>\n",
       "      <th>energy_100g</th>\n",
       "      <th></th>\n",
       "    </tr>\n",
       "  </thead>\n",
       "  <tbody>\n",
       "    <tr>\n",
       "      <th>(0.0, 50.0]</th>\n",
       "      <td>4.347257</td>\n",
       "    </tr>\n",
       "    <tr>\n",
       "      <th>(50.0, 100.0]</th>\n",
       "      <td>4.159621</td>\n",
       "    </tr>\n",
       "    <tr>\n",
       "      <th>(100.0, 200.0]</th>\n",
       "      <td>4.265077</td>\n",
       "    </tr>\n",
       "    <tr>\n",
       "      <th>(200.0, 300.0]</th>\n",
       "      <td>4.273486</td>\n",
       "    </tr>\n",
       "    <tr>\n",
       "      <th>(300.0, 500.0]</th>\n",
       "      <td>4.447869</td>\n",
       "    </tr>\n",
       "    <tr>\n",
       "      <th>(500.0, 1000.0]</th>\n",
       "      <td>4.337629</td>\n",
       "    </tr>\n",
       "  </tbody>\n",
       "</table>\n",
       "</div>"
      ],
      "text/plain": [
       "                 star_rating\n",
       "energy_100g                 \n",
       "(0.0, 50.0]         4.347257\n",
       "(50.0, 100.0]       4.159621\n",
       "(100.0, 200.0]      4.265077\n",
       "(200.0, 300.0]      4.273486\n",
       "(300.0, 500.0]      4.447869\n",
       "(500.0, 1000.0]     4.337629"
      ]
     },
     "execution_count": 16,
     "metadata": {},
     "output_type": "execute_result"
    }
   ],
   "source": [
    "# rating on each level of energy\n",
    "sub[['review_date', 'star_rating']+main]\\\n",
    "    .groupby(pd.cut(sub.energy_100g, [0.0, 50, 100, 200, 300, 500, 1000]))[['star_rating']].mean()"
   ]
  },
  {
   "cell_type": "code",
   "execution_count": 17,
   "metadata": {},
   "outputs": [
    {
     "data": {
      "text/plain": [
       "count    56784.000000\n",
       "mean         7.091969\n",
       "std         11.797259\n",
       "min          0.000000\n",
       "25%          0.000000\n",
       "50%          2.700000\n",
       "75%         10.000000\n",
       "max        100.000000\n",
       "Name: sugars_100g, dtype: float64"
      ]
     },
     "execution_count": 17,
     "metadata": {},
     "output_type": "execute_result"
    }
   ],
   "source": [
    "sub.sugars_100g.describe()"
   ]
  },
  {
   "cell_type": "code",
   "execution_count": 18,
   "metadata": {},
   "outputs": [
    {
     "data": {
      "text/html": [
       "<div>\n",
       "<style scoped>\n",
       "    .dataframe tbody tr th:only-of-type {\n",
       "        vertical-align: middle;\n",
       "    }\n",
       "\n",
       "    .dataframe tbody tr th {\n",
       "        vertical-align: top;\n",
       "    }\n",
       "\n",
       "    .dataframe thead th {\n",
       "        text-align: right;\n",
       "    }\n",
       "</style>\n",
       "<table border=\"1\" class=\"dataframe\">\n",
       "  <thead>\n",
       "    <tr style=\"text-align: right;\">\n",
       "      <th></th>\n",
       "      <th>star_rating</th>\n",
       "    </tr>\n",
       "    <tr>\n",
       "      <th>sugars_100g</th>\n",
       "      <th></th>\n",
       "    </tr>\n",
       "  </thead>\n",
       "  <tbody>\n",
       "    <tr>\n",
       "      <th>(0.0, 2.0]</th>\n",
       "      <td>4.335425</td>\n",
       "    </tr>\n",
       "    <tr>\n",
       "      <th>(2.0, 5.0]</th>\n",
       "      <td>4.212301</td>\n",
       "    </tr>\n",
       "    <tr>\n",
       "      <th>(5.0, 10.0]</th>\n",
       "      <td>4.366455</td>\n",
       "    </tr>\n",
       "    <tr>\n",
       "      <th>(10.0, 50.0]</th>\n",
       "      <td>4.313758</td>\n",
       "    </tr>\n",
       "    <tr>\n",
       "      <th>(50.0, 100.0]</th>\n",
       "      <td>4.502447</td>\n",
       "    </tr>\n",
       "  </tbody>\n",
       "</table>\n",
       "</div>"
      ],
      "text/plain": [
       "               star_rating\n",
       "sugars_100g               \n",
       "(0.0, 2.0]        4.335425\n",
       "(2.0, 5.0]        4.212301\n",
       "(5.0, 10.0]       4.366455\n",
       "(10.0, 50.0]      4.313758\n",
       "(50.0, 100.0]     4.502447"
      ]
     },
     "execution_count": 18,
     "metadata": {},
     "output_type": "execute_result"
    }
   ],
   "source": [
    "# rating on each level of sugars\n",
    "sub[['review_date', 'star_rating']+main]\\\n",
    "    .groupby(pd.cut(sub.sugars_100g, [0.0, 2.0, 5.0, 10.0, 50.0, 100]))[['star_rating']].mean()"
   ]
  },
  {
   "cell_type": "code",
   "execution_count": null,
   "metadata": {},
   "outputs": [],
   "source": []
  },
  {
   "cell_type": "markdown",
   "metadata": {},
   "source": [
    "### Plots \n",
    "+ monthly buying behaviors about energy/sugars\n",
    "+ ratings on product of different energy/sugars "
   ]
  },
  {
   "cell_type": "code",
   "execution_count": 19,
   "metadata": {},
   "outputs": [],
   "source": [
    "from calendar import month_name"
   ]
  },
  {
   "cell_type": "code",
   "execution_count": 20,
   "metadata": {},
   "outputs": [
    {
     "data": {
      "image/png": "[encoded data removed]",
      "text/plain": [
       "<Figure size 864x432 with 1 Axes>"
      ]
     },
     "metadata": {},
     "output_type": "display_data"
    }
   ],
   "source": [
    "plt.figure(figsize=(12, 6))\n",
    "tmp = sub[['review_date']+main].groupby(sub.review_date.dt.month)\\\n",
    "        .mean().reset_index().drop('fiber_100g', axis=1)\n",
    "sns.lineplot(x='review_date', y='energy_100g', data=tmp)\n",
    "plt.xlabel('Purchasing Month')\n",
    "plt.xticks(np.arange(13), month_name[0:13], rotation=20)\n",
    "plt.ylabel('Nutrient Energy  Mean Value')\n",
    "plt.suptitle('Purchased Grocery Nutrients: Energy, across 12 Month', fontsize=20)\n",
    "\n",
    "plt.savefig('nutrients-energy.png', bbox_inches='tight', dpi=300)\n",
    "plt.show()\n",
    "# why dropping at near August? need to investigate"
   ]
  },
  {
   "cell_type": "code",
   "execution_count": 21,
   "metadata": {},
   "outputs": [
    {
     "data": {
      "image/png": "[encoded data removed]",
      "text/plain": [
       "<Figure size 864x432 with 1 Axes>"
      ]
     },
     "metadata": {},
     "output_type": "display_data"
    }
   ],
   "source": [
    "plt.figure(figsize=(12, 6))\n",
    "tmp = sub[['review_date']+main].groupby(sub.review_date.dt.month)\\\n",
    "        .mean().reset_index().drop('energy_100g', axis=1)\n",
    "sns.lineplot(x='review_date', y='value', hue='variable', \\\n",
    "             data=tmp.melt(id_vars='review_date', value_vars=tmp.columns[1:]))\n",
    "plt.xlabel('Purchasing Month')\n",
    "plt.xticks(np.arange(13), month_name[0:13], rotation=20)\n",
    "plt.ylabel('Nutrient Mean Value')\n",
    "plt.suptitle('Purchased Grocery Nutrients, across 12 Month', fontsize=20)\n",
    "plt.savefig('nutrients-all.png', bbox_inches='tight', dpi=300)\n",
    "plt.show()\n",
    "\n"
   ]
  },
  {
   "cell_type": "code",
   "execution_count": null,
   "metadata": {},
   "outputs": [],
   "source": []
  },
  {
   "cell_type": "code",
   "execution_count": 22,
   "metadata": {},
   "outputs": [
    {
     "data": {
      "image/png": "[encoded data removed]",
      "text/plain": [
       "<Figure size 864x432 with 1 Axes>"
      ]
     },
     "metadata": {},
     "output_type": "display_data"
    }
   ],
   "source": [
    "plt.figure(figsize=(12, 6))\n",
    "tmp = sub[['review_date', 'star_rating']+main]\\\n",
    "        .groupby(pd.cut(sub.sugars_100g,np.arange(0, 101, 10)))[['star_rating']].mean()\n",
    "sns.lineplot(x=np.arange(0, 100, 10), y='star_rating', data=tmp)\n",
    "plt.xlabel('Sugar Content, per 100g')\n",
    "plt.ylabel('Star Rating')\n",
    "plt.suptitle('Grocery Rating by sugar content, across 12 Month', fontsize=20)\n",
    "plt.savefig('sugar.png', bbox_inches='tight', dpi=300)\n",
    "plt.show()\n",
    "\n"
   ]
  },
  {
   "cell_type": "code",
   "execution_count": null,
   "metadata": {},
   "outputs": [],
   "source": []
  },
  {
   "cell_type": "raw",
   "metadata": {},
   "source": [
    "data_path = 'D:\\DATA\\PracticeData'\n",
    "data_type = {'code': 'object', 'nutrition_grade_fr': 'category'}\n",
    "\n",
    "df = pd.read_csv(os.path.join(data_path, 'openfoodfacts_processed.gz'), \\\n",
    "                 dtype=data_type, compression='gzip')\n",
    "df.shape"
   ]
  },
  {
   "cell_type": "raw",
   "metadata": {},
   "source": [
    "# function to extract individual country from each tag\n",
    "countries = []\n",
    "for cs in df.countries_tags:\n",
    "    if not pd.isnull(cs):\n",
    "        countries.extend([country[3:] for country in cs.split(',')])\n",
    "len(countries)"
   ]
  },
  {
   "cell_type": "raw",
   "metadata": {},
   "source": [
    "counter = Counter(countries)\n",
    "counter.most_common(10)"
   ]
  },
  {
   "cell_type": "code",
   "execution_count": 23,
   "metadata": {},
   "outputs": [
    {
     "data": {
      "text/plain": [
       "array(['customer_id', 'review_id', 'product_parent', 'product_title',\n",
       "       'star_rating', 'helpful_votes', 'total_votes', 'vine',\n",
       "       'verified_purchase', 'review_headline', 'review_body',\n",
       "       'review_date', 'tokens_x', 'product_name', 'allergens_en',\n",
       "       'serving_quantity', 'no_nutriments', 'additives_n',\n",
       "       'ingredients_from_palm_oil_n', 'ingredients_from_palm_oil',\n",
       "       'ingredients_that_may_be_from_palm_oil_n',\n",
       "       'ingredients_that_may_be_from_palm_oil', 'nova_group',\n",
       "       'energy_100g', 'energy-from-fat_100g', 'fat_100g',\n",
       "       'saturated-fat_100g', '-butyric-acid_100g', '-caproic-acid_100g',\n",
       "       '-caprylic-acid_100g', '-capric-acid_100g', '-lauric-acid_100g',\n",
       "       '-myristic-acid_100g', '-palmitic-acid_100g', '-stearic-acid_100g',\n",
       "       '-arachidic-acid_100g', '-behenic-acid_100g',\n",
       "       '-lignoceric-acid_100g', '-cerotic-acid_100g',\n",
       "       '-montanic-acid_100g', '-melissic-acid_100g',\n",
       "       'monounsaturated-fat_100g', 'polyunsaturated-fat_100g',\n",
       "       'omega-3-fat_100g', '-alpha-linolenic-acid_100g',\n",
       "       '-eicosapentaenoic-acid_100g', '-docosahexaenoic-acid_100g',\n",
       "       'omega-6-fat_100g', '-linoleic-acid_100g',\n",
       "       '-arachidonic-acid_100g', '-gamma-linolenic-acid_100g',\n",
       "       '-dihomo-gamma-linolenic-acid_100g', 'omega-9-fat_100g',\n",
       "       '-oleic-acid_100g', '-elaidic-acid_100g', '-gondoic-acid_100g',\n",
       "       '-mead-acid_100g', '-erucic-acid_100g', '-nervonic-acid_100g',\n",
       "       'trans-fat_100g', 'cholesterol_100g', 'carbohydrates_100g',\n",
       "       'sugars_100g', '-sucrose_100g', '-glucose_100g', '-fructose_100g',\n",
       "       '-lactose_100g', '-maltose_100g', '-maltodextrins_100g',\n",
       "       'starch_100g', 'polyols_100g', 'fiber_100g', 'proteins_100g',\n",
       "       'casein_100g', 'serum-proteins_100g', 'nucleotides_100g',\n",
       "       'salt_100g', 'sodium_100g', 'alcohol_100g', 'vitamin-a_100g',\n",
       "       'beta-carotene_100g', 'vitamin-d_100g', 'vitamin-e_100g',\n",
       "       'vitamin-k_100g', 'vitamin-c_100g', 'vitamin-b1_100g',\n",
       "       'vitamin-b2_100g', 'vitamin-pp_100g', 'vitamin-b6_100g',\n",
       "       'vitamin-b9_100g', 'folates_100g', 'vitamin-b12_100g',\n",
       "       'biotin_100g', 'pantothenic-acid_100g', 'silica_100g',\n",
       "       'bicarbonate_100g', 'potassium_100g', 'chloride_100g',\n",
       "       'calcium_100g', 'phosphorus_100g', 'iron_100g', 'magnesium_100g',\n",
       "       'zinc_100g', 'copper_100g', 'manganese_100g', 'fluoride_100g',\n",
       "       'selenium_100g', 'chromium_100g', 'molybdenum_100g', 'iodine_100g',\n",
       "       'caffeine_100g', 'taurine_100g', 'ph_100g',\n",
       "       'fruits-vegetables-nuts_100g', 'fruits-vegetables-nuts-dried_100g',\n",
       "       'fruits-vegetables-nuts-estimate_100g',\n",
       "       'collagen-meat-protein-ratio_100g', 'cocoa_100g',\n",
       "       'chlorophyl_100g', 'carbon-footprint_100g',\n",
       "       'carbon-footprint-from-meat-or-fish_100g',\n",
       "       'nutrition-score-fr_100g', 'nutrition-score-uk_100g',\n",
       "       'glycemic-index_100g', 'water-hardness_100g', 'choline_100g',\n",
       "       'phylloquinone_100g', 'beta-glucan_100g', 'inositol_100g',\n",
       "       'carnitine_100g', 'tokens_x.1', 'tokens_y', 'filter', 'tokens_y.1'],\n",
       "      dtype=object)"
      ]
     },
     "execution_count": 23,
     "metadata": {},
     "output_type": "execute_result"
    }
   ],
   "source": [
    "df.columns.values"
   ]
  },
  {
   "cell_type": "code",
   "execution_count": 24,
   "metadata": {},
   "outputs": [
    {
     "ename": "AttributeError",
     "evalue": "'DataFrame' object has no attribute 'nutrition_grade_fr'",
     "output_type": "error",
     "traceback": [
      "\u001b[1;31m---------------------------------------------------------------------------\u001b[0m",
      "\u001b[1;31mAttributeError\u001b[0m                            Traceback (most recent call last)",
      "\u001b[1;32m<ipython-input-24-aaa49c1bffec>\u001b[0m in \u001b[0;36m<module>\u001b[1;34m\u001b[0m\n\u001b[0;32m      1\u001b[0m \u001b[1;31m# for having grades\u001b[0m\u001b[1;33m\u001b[0m\u001b[1;33m\u001b[0m\u001b[1;33m\u001b[0m\u001b[0m\n\u001b[1;32m----> 2\u001b[1;33m \u001b[0mdf2\u001b[0m \u001b[1;33m=\u001b[0m \u001b[0mdf\u001b[0m\u001b[1;33m[\u001b[0m\u001b[0mdf\u001b[0m\u001b[1;33m.\u001b[0m\u001b[0mnutrition_grade_fr\u001b[0m\u001b[1;33m.\u001b[0m\u001b[0mnotna\u001b[0m\u001b[1;33m(\u001b[0m\u001b[1;33m)\u001b[0m\u001b[1;33m]\u001b[0m\u001b[1;33m\u001b[0m\u001b[1;33m\u001b[0m\u001b[0m\n\u001b[0m\u001b[0;32m      3\u001b[0m \u001b[0mdf2\u001b[0m\u001b[1;33m.\u001b[0m\u001b[0mreset_index\u001b[0m\u001b[1;33m(\u001b[0m\u001b[0minplace\u001b[0m\u001b[1;33m=\u001b[0m\u001b[1;32mTrue\u001b[0m\u001b[1;33m,\u001b[0m \u001b[0mdrop\u001b[0m\u001b[1;33m=\u001b[0m\u001b[1;32mTrue\u001b[0m\u001b[1;33m)\u001b[0m\u001b[1;33m\u001b[0m\u001b[1;33m\u001b[0m\u001b[0m\n\u001b[0;32m      4\u001b[0m \u001b[0mdf2\u001b[0m\u001b[1;33m.\u001b[0m\u001b[0mshape\u001b[0m\u001b[1;33m\u001b[0m\u001b[1;33m\u001b[0m\u001b[0m\n",
      "\u001b[1;32m~\\Miniconda3\\envs\\sklearn\\lib\\site-packages\\pandas\\core\\generic.py\u001b[0m in \u001b[0;36m__getattr__\u001b[1;34m(self, name)\u001b[0m\n\u001b[0;32m   5178\u001b[0m             \u001b[1;32mif\u001b[0m \u001b[0mself\u001b[0m\u001b[1;33m.\u001b[0m\u001b[0m_info_axis\u001b[0m\u001b[1;33m.\u001b[0m\u001b[0m_can_hold_identifiers_and_holds_name\u001b[0m\u001b[1;33m(\u001b[0m\u001b[0mname\u001b[0m\u001b[1;33m)\u001b[0m\u001b[1;33m:\u001b[0m\u001b[1;33m\u001b[0m\u001b[1;33m\u001b[0m\u001b[0m\n\u001b[0;32m   5179\u001b[0m                 \u001b[1;32mreturn\u001b[0m \u001b[0mself\u001b[0m\u001b[1;33m[\u001b[0m\u001b[0mname\u001b[0m\u001b[1;33m]\u001b[0m\u001b[1;33m\u001b[0m\u001b[1;33m\u001b[0m\u001b[0m\n\u001b[1;32m-> 5180\u001b[1;33m             \u001b[1;32mreturn\u001b[0m \u001b[0mobject\u001b[0m\u001b[1;33m.\u001b[0m\u001b[0m__getattribute__\u001b[0m\u001b[1;33m(\u001b[0m\u001b[0mself\u001b[0m\u001b[1;33m,\u001b[0m \u001b[0mname\u001b[0m\u001b[1;33m)\u001b[0m\u001b[1;33m\u001b[0m\u001b[1;33m\u001b[0m\u001b[0m\n\u001b[0m\u001b[0;32m   5181\u001b[0m \u001b[1;33m\u001b[0m\u001b[0m\n\u001b[0;32m   5182\u001b[0m     \u001b[1;32mdef\u001b[0m \u001b[0m__setattr__\u001b[0m\u001b[1;33m(\u001b[0m\u001b[0mself\u001b[0m\u001b[1;33m,\u001b[0m \u001b[0mname\u001b[0m\u001b[1;33m,\u001b[0m \u001b[0mvalue\u001b[0m\u001b[1;33m)\u001b[0m\u001b[1;33m:\u001b[0m\u001b[1;33m\u001b[0m\u001b[1;33m\u001b[0m\u001b[0m\n",
      "\u001b[1;31mAttributeError\u001b[0m: 'DataFrame' object has no attribute 'nutrition_grade_fr'"
     ]
    }
   ],
   "source": [
    "# for having grades\n",
    "df2 = df[df.nutrition_grade_fr.notna()]\n",
    "df2.reset_index(inplace=True, drop=True)\n",
    "df2.shape"
   ]
  },
  {
   "cell_type": "code",
   "execution_count": null,
   "metadata": {},
   "outputs": [],
   "source": [
    "# get the index with a string in the cell of a column\n",
    "def get_category(string, column, dataframe): \n",
    "    idx_list = []\n",
    "    for idx, row in dataframe.iterrows():\n",
    "        if row[column] is not np.nan and string in row[column]:\n",
    "            idx_list.append(idx)\n",
    "    return idx_list"
   ]
  },
  {
   "cell_type": "code",
   "execution_count": null,
   "metadata": {},
   "outputs": [],
   "source": []
  },
  {
   "cell_type": "code",
   "execution_count": null,
   "metadata": {},
   "outputs": [],
   "source": []
  },
  {
   "cell_type": "code",
   "execution_count": null,
   "metadata": {},
   "outputs": [],
   "source": []
  },
  {
   "cell_type": "markdown",
   "metadata": {},
   "source": [
    "## Are Sugary Snacks always unhealthy? What is the healthiest in this category?\n",
    "Sub-categories:   \n",
    "Bars, Biscuits and cakes, Chocolates, Confectioneries, Popcorn, Viennoiseries"
   ]
  },
  {
   "cell_type": "code",
   "execution_count": null,
   "metadata": {},
   "outputs": [],
   "source": [
    "sugary_snacks = get_category('en:sugary-snacks', 'categories_tags', df2)"
   ]
  },
  {
   "cell_type": "code",
   "execution_count": null,
   "metadata": {},
   "outputs": [],
   "source": [
    "df_ss = df2.iloc[sugary_snacks, :]"
   ]
  },
  {
   "cell_type": "code",
   "execution_count": null,
   "metadata": {},
   "outputs": [],
   "source": [
    "df_ss = df_ss[['code', 'categories_tags', 'energy_100g', 'fat_100g', 'fiber_100g', \\\n",
    "       'proteins_100g', 'salt_100g', 'sodium_100g', 'sugars_100g', 'cocoa_100g', \\\n",
    "       'nutrition_grade_fr', 'nutrition-score-fr_100g', 'nutrition-score-uk_100g']]\n",
    "df_ss.reset_index(inplace=True, drop=True)\n",
    "df_ss.shape"
   ]
  },
  {
   "cell_type": "code",
   "execution_count": null,
   "metadata": {},
   "outputs": [],
   "source": [
    "ss_sub = set(['en:bars', 'en:biscuits-and-cakes', 'en:chocolates', \\\n",
    "          'en:confectioneries', 'en:popcorn', 'en:viennoiseries'])"
   ]
  },
  {
   "cell_type": "code",
   "execution_count": null,
   "metadata": {},
   "outputs": [],
   "source": [
    "def create_sub(row):\n",
    "    cats = list(ss_sub.intersection(set(row.split(','))))\n",
    "    if len(cats) != 0: return cats[0]\n",
    "    else: return np.nan"
   ]
  },
  {
   "cell_type": "code",
   "execution_count": null,
   "metadata": {},
   "outputs": [],
   "source": [
    "df_ss['sub_category'] = df_ss.categories_tags.apply(create_sub)\n",
    "df_ss.sub_category = df_ss.sub_category.astype('category')\n",
    "df_ss = df_ss.drop('categories_tags', axis=1)"
   ]
  },
  {
   "cell_type": "code",
   "execution_count": null,
   "metadata": {},
   "outputs": [],
   "source": [
    "# drop rows that have NaN for: sub_category, energy_100g, fat_100g\n",
    "df_ss = df_ss[df_ss.sub_category.notnull() & df_ss.energy_100g.notnull() & df_ss.fat_100g.notnull()]\n",
    "# fill NaN in fiber_100g with 0, i.e. this sweet has no fiber content\n",
    "df_ss.fiber_100g = df_ss.fiber_100g.fillna(0)"
   ]
  },
  {
   "cell_type": "code",
   "execution_count": null,
   "metadata": {},
   "outputs": [],
   "source": [
    "tmp = df_ss[['code', 'sub_category', 'nutrition_grade_fr']].groupby(by=['sub_category', 'nutrition_grade_fr']).count()\n",
    "tmp['percentage'] = None"
   ]
  },
  {
   "cell_type": "code",
   "execution_count": null,
   "metadata": {},
   "outputs": [],
   "source": [
    "for idx in tmp.index.levels[0].values: \n",
    "    tmp.loc[idx, 'percentage'] = (tmp.loc[idx, 'code'] / sum(tmp.loc[idx, 'code'])).values * 100"
   ]
  },
  {
   "cell_type": "code",
   "execution_count": null,
   "metadata": {},
   "outputs": [],
   "source": [
    "total = tmp.loc[pd.IndexSlice[:, :], 'code'].values.sum()\n",
    "sugary_all = []\n",
    "for idx2 in tmp.index.levels[1].values:\n",
    "    sugary_all.append(tmp.loc[pd.IndexSlice[:, idx2], 'code'].values.sum() / total  * 100)"
   ]
  },
  {
   "cell_type": "code",
   "execution_count": null,
   "metadata": {},
   "outputs": [],
   "source": [
    "sugary_all = pd.Series(data=sugary_all, index =['a', 'b', 'c', 'd', 'e'])\n",
    "# sugary_all"
   ]
  },
  {
   "cell_type": "code",
   "execution_count": null,
   "metadata": {},
   "outputs": [],
   "source": [
    "tmp.drop('code', axis=1).unstack()"
   ]
  },
  {
   "cell_type": "markdown",
   "metadata": {},
   "source": [
    "#### Cocoa content of chocolatese in each rank"
   ]
  },
  {
   "cell_type": "code",
   "execution_count": null,
   "metadata": {},
   "outputs": [],
   "source": [
    "df_cc = df_ss[(df_ss.cocoa_100g.notnull()) & (df_ss.sub_category == 'en:chocolates')]\n",
    "df_cc.head()"
   ]
  },
  {
   "cell_type": "raw",
   "metadata": {},
   "source": [
    "plt.figure(figsize=(14, 7))\n",
    "sns.boxenplot(x='nutrition_grade_fr', y='cocoa_100g', data=df_cc)\n",
    "plt.rcParams['axes.axisbelow'] = True\n",
    "plt.title('Cocoa content on each Nutri-Score rank', fontdict={'fontsize': 18})\n",
    "plt.grid(True)\n",
    "# plt.savefig('cocoa2.png', bbox_inches='tight', dpi=300)\n",
    "plt.show()"
   ]
  },
  {
   "cell_type": "code",
   "execution_count": null,
   "metadata": {},
   "outputs": [],
   "source": []
  },
  {
   "cell_type": "code",
   "execution_count": null,
   "metadata": {},
   "outputs": [],
   "source": []
  },
  {
   "cell_type": "code",
   "execution_count": null,
   "metadata": {},
   "outputs": [],
   "source": []
  },
  {
   "cell_type": "markdown",
   "metadata": {},
   "source": [
    "## What are the percentage of cocoa content in all chocolates? What's their calorie count? \n",
    "Does higher cocoa chocolate has less calorie? Or less sugar? \n",
    "1. from the dataframe df_ss, get data having cocoa and is of chocoloates sub-category\n",
    "2. plot the cocoa content by histogram and density distribution\n",
    "3. fit a regression model, to predict the cocoa content of a chocolate\n",
    "    + try to fit with the major contents: energy, fat, sugar, fiber, protein, salt\n",
    "    + try different algorithm, or use more features\n",
    "    + https://stackoverflow.com/questions/47577168/how-can-i-increase-the-accuracy-of-my-linear-regression-modelmachine-learning"
   ]
  },
  {
   "cell_type": "code",
   "execution_count": null,
   "metadata": {},
   "outputs": [],
   "source": [
    "df_cc = df_ss[(df_ss.cocoa_100g.notnull()) & (df_ss.sub_category == 'en:chocolates')]"
   ]
  },
  {
   "cell_type": "code",
   "execution_count": null,
   "metadata": {},
   "outputs": [],
   "source": [
    "df_cc.head()"
   ]
  },
  {
   "cell_type": "code",
   "execution_count": null,
   "metadata": {},
   "outputs": [],
   "source": [
    "plt.figure(figsize=(14, 7))\n",
    "sns.distplot(df_cc.cocoa_100g, bins=50, kde=True)\n",
    "plt.xlim(0, 100); plt.xticks(range(0, 100, 10))\n",
    "plt.grid(True)\n",
    "plt.title('Cocoa content in Chocolates', fontdict={'fontsize': 18})\n",
    "plt.xlabel('Cocoa (per 100g Chocolate)')\n",
    "# plt.savefig('cocoa.png', bbox_inches='tight', dpi=300)\n",
    "\n",
    "plt.show()\n",
    "# looks like bimodal, primary at 30% or 70%"
   ]
  },
  {
   "cell_type": "code",
   "execution_count": null,
   "metadata": {},
   "outputs": [],
   "source": []
  },
  {
   "cell_type": "code",
   "execution_count": null,
   "metadata": {},
   "outputs": [],
   "source": []
  },
  {
   "cell_type": "code",
   "execution_count": null,
   "metadata": {},
   "outputs": [],
   "source": []
  },
  {
   "cell_type": "markdown",
   "metadata": {},
   "source": [
    "## Additives of Ice Creams\n",
    "does ice cream flavor correlates with its calorie? energie? cannot do that, since flavor is not recorded clearly"
   ]
  },
  {
   "cell_type": "code",
   "execution_count": null,
   "metadata": {},
   "outputs": [],
   "source": [
    "frozen = get_category('en:frozen-foods', 'categories_tags', df2)"
   ]
  },
  {
   "cell_type": "code",
   "execution_count": null,
   "metadata": {},
   "outputs": [],
   "source": [
    "df_ff = df2.iloc[frozen, :]\n",
    "df_ff.reset_index(inplace=True, drop=True)"
   ]
  },
  {
   "cell_type": "code",
   "execution_count": null,
   "metadata": {},
   "outputs": [],
   "source": [
    "ice_sor = get_category('en:ice-creams-and-sorbets', 'categories_tags', df_ff)"
   ]
  },
  {
   "cell_type": "code",
   "execution_count": null,
   "metadata": {},
   "outputs": [],
   "source": [
    "df_ice = df_ff.iloc[ice_sor, :]\n",
    "df_ice.reset_index(inplace=True, drop=True)"
   ]
  },
  {
   "cell_type": "code",
   "execution_count": null,
   "metadata": {},
   "outputs": [],
   "source": [
    "df_ice = df_ice[['code','energy_100g', 'fat_100g', 'fiber_100g', 'proteins_100g', 'salt_100g', \\\n",
    "               'sodium_100g', 'sugars_100g', 'additives_n', 'additives_tags', 'labels_tags', \\\n",
    "               'nutrition_grade_fr']]"
   ]
  },
  {
   "cell_type": "code",
   "execution_count": null,
   "metadata": {},
   "outputs": [],
   "source": [
    "df_ice.head()"
   ]
  },
  {
   "cell_type": "code",
   "execution_count": null,
   "metadata": {},
   "outputs": [],
   "source": []
  },
  {
   "cell_type": "code",
   "execution_count": null,
   "metadata": {},
   "outputs": [],
   "source": []
  },
  {
   "cell_type": "code",
   "execution_count": null,
   "metadata": {},
   "outputs": [],
   "source": []
  },
  {
   "cell_type": "markdown",
   "metadata": {},
   "source": [
    "## Are food high in fiber healthy?\n",
    "+ correlation between fiber content and score/category\n",
    "+ modeling with just fiber content? "
   ]
  },
  {
   "cell_type": "code",
   "execution_count": null,
   "metadata": {},
   "outputs": [],
   "source": [
    "df_hm = df2[df2.fiber_100g.notna() & df2['nutrition-score-fr_100g']]\n",
    "df_hm.reset_index(inplace=True, drop=True)"
   ]
  },
  {
   "cell_type": "code",
   "execution_count": null,
   "metadata": {},
   "outputs": [],
   "source": [
    "df_hm = df_hm[['energy_100g', 'fat_100g','proteins_100g', 'salt_100g', 'fiber_100g',  \\\n",
    "               'sodium_100g', 'sugars_100g', 'nutrition-score-fr_100g', 'nutrition_grade_fr']]"
   ]
  },
  {
   "cell_type": "raw",
   "metadata": {},
   "source": [
    "# take value with less than 500 energy\n",
    "tmp = df_hm[df_hm.energy_100g < 300][['fiber_100g', 'energy_100g', 'proteins_100g', 'salt_100g', 'sugars_100g','nutrition_grade_fr']]\n",
    "tmp.shape"
   ]
  },
  {
   "cell_type": "code",
   "execution_count": null,
   "metadata": {},
   "outputs": [],
   "source": [
    "tmp = df_hm[['energy_100g', 'sugars_100g', 'proteins_100g', 'salt_100g',  'fiber_100g', 'nutrition_grade_fr']]\n",
    "tmp.shape"
   ]
  },
  {
   "cell_type": "code",
   "execution_count": null,
   "metadata": {},
   "outputs": [],
   "source": [
    "pd.get_dummies(tmp).corr().head()"
   ]
  },
  {
   "cell_type": "code",
   "execution_count": null,
   "metadata": {},
   "outputs": [],
   "source": [
    "# take value with less than 500 energy\n",
    "plt.figure(figsize=(14, 8))\n",
    "sns.heatmap(pd.get_dummies(tmp).corr(), xticklabels=3,  annot=True, vmin=-1.0, vmax=1.0)\n",
    "plt.title('Correlation between Main Nutrients & Nutri-Score', fontdict={'fontsize': 18})\n",
    "# plt.savefig('fig06_correlations.png', bbox_inches='tight', dpi=300)\n",
    "plt.show()"
   ]
  },
  {
   "cell_type": "code",
   "execution_count": null,
   "metadata": {},
   "outputs": [],
   "source": []
  },
  {
   "cell_type": "code",
   "execution_count": null,
   "metadata": {},
   "outputs": [],
   "source": []
  },
  {
   "cell_type": "code",
   "execution_count": null,
   "metadata": {},
   "outputs": [],
   "source": []
  },
  {
   "cell_type": "markdown",
   "metadata": {},
   "source": [
    "## Report the correlation between nutrients"
   ]
  },
  {
   "cell_type": "code",
   "execution_count": null,
   "metadata": {},
   "outputs": [],
   "source": [
    "df_corr = df2[['energy_100g', 'fat_100g', 'sugars_100g', 'proteins_100g', \\\n",
    "               'salt_100g', 'sodium_100g', 'fiber_100g', ]]"
   ]
  },
  {
   "cell_type": "code",
   "execution_count": null,
   "metadata": {},
   "outputs": [],
   "source": [
    "df_corr.describe()"
   ]
  },
  {
   "cell_type": "code",
   "execution_count": null,
   "metadata": {},
   "outputs": [],
   "source": [
    "plt.figure(figsize=(12, 6))\n",
    "# sns.heatmap(tmp.corr())\n",
    "sns.heatmap(df_corr.corr())\n",
    "plt.show()"
   ]
  },
  {
   "cell_type": "code",
   "execution_count": null,
   "metadata": {},
   "outputs": [],
   "source": []
  },
  {
   "cell_type": "code",
   "execution_count": null,
   "metadata": {},
   "outputs": [],
   "source": []
  },
  {
   "cell_type": "code",
   "execution_count": null,
   "metadata": {},
   "outputs": [],
   "source": []
  },
  {
   "cell_type": "markdown",
   "metadata": {},
   "source": [
    "## Are products with 'organic' labels necessary healthy?\n",
    "+ in labels_tags, search for en:organic or en:eu-organic\n",
    "+ more like organic is always associated with fresh foods, therefore less processed\n",
    "+ do organic foods has additives?"
   ]
  },
  {
   "cell_type": "code",
   "execution_count": null,
   "metadata": {},
   "outputs": [],
   "source": [
    "df_org = df2[df2.labels_tags.notna()]\n",
    "df_org.reset_index(inplace=True, drop=True)\n",
    "df_org.shape"
   ]
  },
  {
   "cell_type": "code",
   "execution_count": null,
   "metadata": {},
   "outputs": [],
   "source": [
    "org1 = get_category('en:organic', 'labels_tags', df_org)"
   ]
  },
  {
   "cell_type": "code",
   "execution_count": null,
   "metadata": {},
   "outputs": [],
   "source": [
    "org2 = get_category('en:eu-organic', 'labels_tags', df_org)"
   ]
  },
  {
   "cell_type": "code",
   "execution_count": null,
   "metadata": {},
   "outputs": [],
   "source": [
    "org = list(set(org1).union(set(org2)))\n",
    "len(org)"
   ]
  },
  {
   "cell_type": "code",
   "execution_count": null,
   "metadata": {},
   "outputs": [],
   "source": [
    "df_org = df_org.iloc[org, :][['additives_n', 'energy_100g', \\\n",
    "                              'proteins_100g', 'salt_100g', 'fiber_100g', \\\n",
    "                              'sugars_100g','nutrition_grade_fr']]"
   ]
  },
  {
   "cell_type": "code",
   "execution_count": null,
   "metadata": {},
   "outputs": [],
   "source": [
    "df_org.additives_n = df_org.additives_n.fillna(0)\n",
    "df_org.fiber_100g = df_org.fiber_100g.fillna(0)"
   ]
  },
  {
   "cell_type": "code",
   "execution_count": null,
   "metadata": {},
   "outputs": [],
   "source": [
    "df_org = df_org[df_org.sugars_100g.notna()]"
   ]
  },
  {
   "cell_type": "code",
   "execution_count": null,
   "metadata": {},
   "outputs": [],
   "source": [
    "tmp = df2[['additives_n', 'energy_100g', 'proteins_100g', 'salt_100g', \\\n",
    "           'fiber_100g', 'sugars_100g']]\n",
    "tmp = tmp[tmp.additives_n.notna()]\n",
    "tmp.fiber_100g.fillna(0, inplace=True)"
   ]
  },
  {
   "cell_type": "code",
   "execution_count": null,
   "metadata": {},
   "outputs": [],
   "source": [
    "tmp.info()"
   ]
  },
  {
   "cell_type": "code",
   "execution_count": null,
   "metadata": {},
   "outputs": [],
   "source": [
    "temp = df_org.copy()\n",
    "temp.drop('nutrition_grade_fr', axis=1, inplace=True)\n",
    "temp.reset_index(inplace=True, drop=True)\n",
    "temp['kind'] = 'organic'\n",
    "print(temp.shape)\n",
    "temp.head()"
   ]
  },
  {
   "cell_type": "code",
   "execution_count": null,
   "metadata": {},
   "outputs": [],
   "source": [
    "temp_all = tmp.copy()\n",
    "temp_all.reset_index(inplace=True, drop=True)\n",
    "temp_all['kind'] = 'overall'\n",
    "print(temp_all.shape)\n",
    "temp_all.head()"
   ]
  },
  {
   "cell_type": "code",
   "execution_count": null,
   "metadata": {},
   "outputs": [],
   "source": [
    "melted = pd.concat([temp, temp_all])\n",
    "melted.kind = melted.kind.astype('category')\n",
    "melted.shape"
   ]
  },
  {
   "cell_type": "code",
   "execution_count": null,
   "metadata": {},
   "outputs": [],
   "source": [
    "melted.info()"
   ]
  },
  {
   "cell_type": "code",
   "execution_count": null,
   "metadata": {},
   "outputs": [],
   "source": [
    "plot_cols = ['additives_n', 'energy_100g', 'proteins_100g', 'salt_100g', 'fiber_100g', 'sugars_100g']"
   ]
  },
  {
   "cell_type": "code",
   "execution_count": null,
   "metadata": {},
   "outputs": [],
   "source": [
    "fig, axes = plt.subplots(nrows=2, ncols=3, figsize=(14, 7), sharey=True)\n",
    "\n",
    "sns.boxplot(y='kind',x='additives_n', data=melted, showfliers=False, \\\n",
    "            ax=axes[0, 0], palette=['limegreen', 'slategrey'], width=0.65)\n",
    "axes[0, 0].set_xlabel('Number of Additives', fontdict={'fontsize': 14})\n",
    "# axes[0, 0].set_yticks(['Organic', 'Overall']) \n",
    "# print(axes[0, 0].set_yticklabels(['Organic', 'Overall']))\n",
    "axes[0, 0].set_yticklabels(['Organic', 'Overall'], fontsize=14)\n",
    "\n",
    "sns.boxplot(y='kind',x='energy_100g', data=melted, showfliers=False, \\\n",
    "            ax=axes[0, 1], palette=['limegreen', 'slategrey'], width=0.65)\n",
    "axes[0, 1].set_xlabel('Energy (kcal, per 100g)', fontdict={'fontsize': 14})\n",
    "\n",
    "sns.boxplot(y='kind',x='proteins_100g', data=melted, showfliers=False, \\\n",
    "            ax=axes[0, 2], palette=['limegreen', 'slategrey'], width=0.65)\n",
    "axes[0, 2].set_xlabel('Proteins (g, per 100g)', fontdict={'fontsize': 14})\n",
    "\n",
    "sns.boxplot(y='kind',x='salt_100g', data=melted, showfliers=False, \\\n",
    "            ax=axes[1, 0], palette=['limegreen', 'slategrey'], width=0.65)\n",
    "axes[1, 0].set_xlabel('Salt (g, per 100g)', fontdict={'fontsize': 14})\n",
    "axes[1, 0].set_yticklabels(['Organic', 'Overall'], fontsize=14)\n",
    "\n",
    "sns.boxplot(y='kind',x='fiber_100g', data=melted, showfliers=False, \\\n",
    "            ax=axes[1, 1], palette=['limegreen', 'slategrey'], width=0.65)\n",
    "axes[1, 1].set_xlabel('Fiber (g, per 100g)', fontdict={'fontsize': 14})\n",
    "\n",
    "sns.boxplot(y='kind',x='sugars_100g', data=melted, showfliers=False, \\\n",
    "            ax=axes[1, 2], palette=['limegreen', 'slategrey'], width=0.65)\n",
    "axes[1, 2].set_xlabel('Sugars (g, per 100g)', fontdict={'fontsize': 14})\n",
    "\n",
    "fig.suptitle('Comparison between Organic and Overall Products', fontsize=20) \n",
    "# plt.legend(loc='best', fontsize=14)\n",
    "fig.tight_layout() #plt.tight_layout()\n",
    "fig.subplots_adjust(top=0.93)\n",
    "\n",
    "handles, labels = axes[1, 2].get_legend_handles_labels()\n",
    "# fig.legend(['Organic', 'Overall'])\n",
    "fig.legend(handles, labels, loc='upper center')\n",
    "\n",
    "# plt.savefig('fig09_organic2.png', bbox_inches='tight', dpi=300)\n",
    "\n",
    "plt.show()"
   ]
  },
  {
   "cell_type": "code",
   "execution_count": null,
   "metadata": {},
   "outputs": [],
   "source": []
  },
  {
   "cell_type": "code",
   "execution_count": null,
   "metadata": {},
   "outputs": [],
   "source": [
    "tmp = df2[['code', 'nutrition_grade_fr']].groupby(by='nutrition_grade_fr').count().reset_index()\n",
    "tmp['overall'] = tmp.code.apply(lambda x: x / tmp.code.sum())\n",
    "# tmp\n",
    "\n",
    "tmp2 = df_org[['additives_n', 'nutrition_grade_fr']].groupby(by='nutrition_grade_fr').count().reset_index()\n",
    "tmp2['organic'] = tmp2.additives_n.apply(lambda x: x / tmp2.additives_n.sum())\n",
    "# tmp2"
   ]
  },
  {
   "cell_type": "code",
   "execution_count": null,
   "metadata": {},
   "outputs": [],
   "source": [
    "df = pd.merge(tmp.drop('code', axis=1), tmp2.drop('additives_n', axis=1))\n",
    "tmp = pd.melt(df, id_vars='nutrition_grade_fr', var_name='category', value_name='rank_percentage')"
   ]
  },
  {
   "cell_type": "code",
   "execution_count": null,
   "metadata": {},
   "outputs": [],
   "source": [
    "plt.figure(figsize=(14, 7))\n",
    "sns.barplot(x=\"nutrition_grade_fr\", y=\"rank_percentage\", hue=\"category\", data=tmp, palette=['slategrey', 'limegreen'])\n",
    "plt.xlabel('Nutri-Score Ranks', fontdict={'fontsize': 14})\n",
    "plt.ylabel('Ranks Percentage', fontdict={'fontsize': 14})\n",
    "plt.xticks(fontsize=14)\n",
    "plt.title('Comparison of Nutri-Score between Organic and Overall products', fontdict={'fontsize': 18})\n",
    "plt.legend(loc='best', fontsize=14)\n",
    "# plt.savefig('fig08_organic1.png', bbox_inches='tight', dpi=300)\n",
    "plt.show()"
   ]
  },
  {
   "cell_type": "raw",
   "metadata": {},
   "source": [
    "# plt.figure(figsize=(14, 7)) # for some reason, this doesn't work with catplot\n",
    "# sns.factorplot(x='nutrition_grade_fr', y='rank_percentage', hue='category', data=tmp, kind='bar')\n",
    "# sns.catplot(x='nutrition_grade_fr', y='rank_percentage', col='category', data=tmp, kind='bar')\n",
    "sns.catplot(x='nutrition_grade_fr', y='rank_percentage', hue='category', data=tmp, kind='bar')\n",
    "\n",
    "plt.title('Comparison between Organic and Overall products', fontdict={'fontsize': 18})\n",
    "plt.gcf().set_size_inches(12, 6) # work with catplot\n",
    "plt.show()"
   ]
  },
  {
   "cell_type": "code",
   "execution_count": null,
   "metadata": {},
   "outputs": [],
   "source": []
  }
 ],
 "metadata": {
  "kernelspec": {
   "display_name": "Python (sklearn)",
   "language": "python",
   "name": "sklearn"
  },
  "language_info": {
   "codemirror_mode": {
    "name": "ipython",
    "version": 3
   },
   "file_extension": ".py",
   "mimetype": "text/x-python",
   "name": "python",
   "nbconvert_exporter": "python",
   "pygments_lexer": "ipython3",
   "version": "3.7.3"
  }
 },
 "nbformat": 4,
 "nbformat_minor": 4
}
